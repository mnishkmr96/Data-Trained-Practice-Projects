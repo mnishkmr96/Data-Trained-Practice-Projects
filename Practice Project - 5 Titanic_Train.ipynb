{
 "cells": [
  {
   "cell_type": "markdown",
   "id": "22bf90ea",
   "metadata": {},
   "source": [
    "# Problem Statement:\n",
    "\n",
    "The Titanic Problem is based on the sinking of the ‘Unsinkable’ ship Titanic in early 1912. It gives you information about multiple people like their ages, sexes, sibling counts, embarkment points, and whether or not they survived the disaster. Based on these features, you have to predict if an arbitrary passenger on Titanic would survive the sinking or not. \n",
    "\n",
    "\n"
   ]
  },
  {
   "cell_type": "markdown",
   "id": "192dfbfa",
   "metadata": {},
   "source": [
    "### First we are going to import all the important libraries."
   ]
  },
  {
   "cell_type": "code",
   "execution_count": 331,
   "id": "d21bf2e1",
   "metadata": {},
   "outputs": [],
   "source": [
    "import pandas as pd\n",
    "import numpy as np\n",
    "import matplotlib.pyplot as plt\n",
    "import seaborn as sns\n",
    "from sklearn.preprocessing import LabelEncoder\n",
    "from sklearn.preprocessing import StandardScaler\n",
    "from sklearn.model_selection import train_test_split\n",
    "from sklearn.linear_model import LogisticRegression\n",
    "from sklearn.metrics import accuracy_score, classification_report, confusion_matrix, roc_curve, roc_auc_score\n",
    "import warnings\n",
    "warnings.filterwarnings('ignore')\n"
   ]
  },
  {
   "cell_type": "code",
   "execution_count": null,
   "id": "58f6f64b",
   "metadata": {},
   "outputs": [],
   "source": []
  },
  {
   "cell_type": "code",
   "execution_count": 265,
   "id": "00f52da2",
   "metadata": {},
   "outputs": [
    {
     "data": {
      "text/html": [
       "<div>\n",
       "<style scoped>\n",
       "    .dataframe tbody tr th:only-of-type {\n",
       "        vertical-align: middle;\n",
       "    }\n",
       "\n",
       "    .dataframe tbody tr th {\n",
       "        vertical-align: top;\n",
       "    }\n",
       "\n",
       "    .dataframe thead th {\n",
       "        text-align: right;\n",
       "    }\n",
       "</style>\n",
       "<table border=\"1\" class=\"dataframe\">\n",
       "  <thead>\n",
       "    <tr style=\"text-align: right;\">\n",
       "      <th></th>\n",
       "      <th>PassengerId</th>\n",
       "      <th>Survived</th>\n",
       "      <th>Pclass</th>\n",
       "      <th>Name</th>\n",
       "      <th>Sex</th>\n",
       "      <th>Age</th>\n",
       "      <th>SibSp</th>\n",
       "      <th>Parch</th>\n",
       "      <th>Ticket</th>\n",
       "      <th>Fare</th>\n",
       "      <th>Cabin</th>\n",
       "      <th>Embarked</th>\n",
       "    </tr>\n",
       "  </thead>\n",
       "  <tbody>\n",
       "    <tr>\n",
       "      <th>0</th>\n",
       "      <td>1</td>\n",
       "      <td>0</td>\n",
       "      <td>3</td>\n",
       "      <td>Braund, Mr. Owen Harris</td>\n",
       "      <td>male</td>\n",
       "      <td>22.0</td>\n",
       "      <td>1</td>\n",
       "      <td>0</td>\n",
       "      <td>A/5 21171</td>\n",
       "      <td>7.2500</td>\n",
       "      <td>NaN</td>\n",
       "      <td>S</td>\n",
       "    </tr>\n",
       "    <tr>\n",
       "      <th>1</th>\n",
       "      <td>2</td>\n",
       "      <td>1</td>\n",
       "      <td>1</td>\n",
       "      <td>Cumings, Mrs. John Bradley (Florence Briggs Th...</td>\n",
       "      <td>female</td>\n",
       "      <td>38.0</td>\n",
       "      <td>1</td>\n",
       "      <td>0</td>\n",
       "      <td>PC 17599</td>\n",
       "      <td>71.2833</td>\n",
       "      <td>C85</td>\n",
       "      <td>C</td>\n",
       "    </tr>\n",
       "    <tr>\n",
       "      <th>2</th>\n",
       "      <td>3</td>\n",
       "      <td>1</td>\n",
       "      <td>3</td>\n",
       "      <td>Heikkinen, Miss. Laina</td>\n",
       "      <td>female</td>\n",
       "      <td>26.0</td>\n",
       "      <td>0</td>\n",
       "      <td>0</td>\n",
       "      <td>STON/O2. 3101282</td>\n",
       "      <td>7.9250</td>\n",
       "      <td>NaN</td>\n",
       "      <td>S</td>\n",
       "    </tr>\n",
       "    <tr>\n",
       "      <th>3</th>\n",
       "      <td>4</td>\n",
       "      <td>1</td>\n",
       "      <td>1</td>\n",
       "      <td>Futrelle, Mrs. Jacques Heath (Lily May Peel)</td>\n",
       "      <td>female</td>\n",
       "      <td>35.0</td>\n",
       "      <td>1</td>\n",
       "      <td>0</td>\n",
       "      <td>113803</td>\n",
       "      <td>53.1000</td>\n",
       "      <td>C123</td>\n",
       "      <td>S</td>\n",
       "    </tr>\n",
       "    <tr>\n",
       "      <th>4</th>\n",
       "      <td>5</td>\n",
       "      <td>0</td>\n",
       "      <td>3</td>\n",
       "      <td>Allen, Mr. William Henry</td>\n",
       "      <td>male</td>\n",
       "      <td>35.0</td>\n",
       "      <td>0</td>\n",
       "      <td>0</td>\n",
       "      <td>373450</td>\n",
       "      <td>8.0500</td>\n",
       "      <td>NaN</td>\n",
       "      <td>S</td>\n",
       "    </tr>\n",
       "    <tr>\n",
       "      <th>...</th>\n",
       "      <td>...</td>\n",
       "      <td>...</td>\n",
       "      <td>...</td>\n",
       "      <td>...</td>\n",
       "      <td>...</td>\n",
       "      <td>...</td>\n",
       "      <td>...</td>\n",
       "      <td>...</td>\n",
       "      <td>...</td>\n",
       "      <td>...</td>\n",
       "      <td>...</td>\n",
       "      <td>...</td>\n",
       "    </tr>\n",
       "    <tr>\n",
       "      <th>886</th>\n",
       "      <td>887</td>\n",
       "      <td>0</td>\n",
       "      <td>2</td>\n",
       "      <td>Montvila, Rev. Juozas</td>\n",
       "      <td>male</td>\n",
       "      <td>27.0</td>\n",
       "      <td>0</td>\n",
       "      <td>0</td>\n",
       "      <td>211536</td>\n",
       "      <td>13.0000</td>\n",
       "      <td>NaN</td>\n",
       "      <td>S</td>\n",
       "    </tr>\n",
       "    <tr>\n",
       "      <th>887</th>\n",
       "      <td>888</td>\n",
       "      <td>1</td>\n",
       "      <td>1</td>\n",
       "      <td>Graham, Miss. Margaret Edith</td>\n",
       "      <td>female</td>\n",
       "      <td>19.0</td>\n",
       "      <td>0</td>\n",
       "      <td>0</td>\n",
       "      <td>112053</td>\n",
       "      <td>30.0000</td>\n",
       "      <td>B42</td>\n",
       "      <td>S</td>\n",
       "    </tr>\n",
       "    <tr>\n",
       "      <th>888</th>\n",
       "      <td>889</td>\n",
       "      <td>0</td>\n",
       "      <td>3</td>\n",
       "      <td>Johnston, Miss. Catherine Helen \"Carrie\"</td>\n",
       "      <td>female</td>\n",
       "      <td>NaN</td>\n",
       "      <td>1</td>\n",
       "      <td>2</td>\n",
       "      <td>W./C. 6607</td>\n",
       "      <td>23.4500</td>\n",
       "      <td>NaN</td>\n",
       "      <td>S</td>\n",
       "    </tr>\n",
       "    <tr>\n",
       "      <th>889</th>\n",
       "      <td>890</td>\n",
       "      <td>1</td>\n",
       "      <td>1</td>\n",
       "      <td>Behr, Mr. Karl Howell</td>\n",
       "      <td>male</td>\n",
       "      <td>26.0</td>\n",
       "      <td>0</td>\n",
       "      <td>0</td>\n",
       "      <td>111369</td>\n",
       "      <td>30.0000</td>\n",
       "      <td>C148</td>\n",
       "      <td>C</td>\n",
       "    </tr>\n",
       "    <tr>\n",
       "      <th>890</th>\n",
       "      <td>891</td>\n",
       "      <td>0</td>\n",
       "      <td>3</td>\n",
       "      <td>Dooley, Mr. Patrick</td>\n",
       "      <td>male</td>\n",
       "      <td>32.0</td>\n",
       "      <td>0</td>\n",
       "      <td>0</td>\n",
       "      <td>370376</td>\n",
       "      <td>7.7500</td>\n",
       "      <td>NaN</td>\n",
       "      <td>Q</td>\n",
       "    </tr>\n",
       "  </tbody>\n",
       "</table>\n",
       "<p>891 rows × 12 columns</p>\n",
       "</div>"
      ],
      "text/plain": [
       "     PassengerId  Survived  Pclass  \\\n",
       "0              1         0       3   \n",
       "1              2         1       1   \n",
       "2              3         1       3   \n",
       "3              4         1       1   \n",
       "4              5         0       3   \n",
       "..           ...       ...     ...   \n",
       "886          887         0       2   \n",
       "887          888         1       1   \n",
       "888          889         0       3   \n",
       "889          890         1       1   \n",
       "890          891         0       3   \n",
       "\n",
       "                                                  Name     Sex   Age  SibSp  \\\n",
       "0                              Braund, Mr. Owen Harris    male  22.0      1   \n",
       "1    Cumings, Mrs. John Bradley (Florence Briggs Th...  female  38.0      1   \n",
       "2                               Heikkinen, Miss. Laina  female  26.0      0   \n",
       "3         Futrelle, Mrs. Jacques Heath (Lily May Peel)  female  35.0      1   \n",
       "4                             Allen, Mr. William Henry    male  35.0      0   \n",
       "..                                                 ...     ...   ...    ...   \n",
       "886                              Montvila, Rev. Juozas    male  27.0      0   \n",
       "887                       Graham, Miss. Margaret Edith  female  19.0      0   \n",
       "888           Johnston, Miss. Catherine Helen \"Carrie\"  female   NaN      1   \n",
       "889                              Behr, Mr. Karl Howell    male  26.0      0   \n",
       "890                                Dooley, Mr. Patrick    male  32.0      0   \n",
       "\n",
       "     Parch            Ticket     Fare Cabin Embarked  \n",
       "0        0         A/5 21171   7.2500   NaN        S  \n",
       "1        0          PC 17599  71.2833   C85        C  \n",
       "2        0  STON/O2. 3101282   7.9250   NaN        S  \n",
       "3        0            113803  53.1000  C123        S  \n",
       "4        0            373450   8.0500   NaN        S  \n",
       "..     ...               ...      ...   ...      ...  \n",
       "886      0            211536  13.0000   NaN        S  \n",
       "887      0            112053  30.0000   B42        S  \n",
       "888      2        W./C. 6607  23.4500   NaN        S  \n",
       "889      0            111369  30.0000  C148        C  \n",
       "890      0            370376   7.7500   NaN        Q  \n",
       "\n",
       "[891 rows x 12 columns]"
      ]
     },
     "execution_count": 265,
     "metadata": {},
     "output_type": "execute_result"
    }
   ],
   "source": [
    "# Let's import the data file\n",
    "data = pd.read_csv('titanic_train.csv')\n",
    "data"
   ]
  },
  {
   "cell_type": "markdown",
   "id": "8be58729",
   "metadata": {},
   "source": [
    "# Exploratery Data Analysis\n",
    "\n",
    "We are Starting our most important part of machine learning model building that is EDA."
   ]
  },
  {
   "cell_type": "code",
   "execution_count": 266,
   "id": "2fc9de53",
   "metadata": {},
   "outputs": [
    {
     "data": {
      "text/plain": [
       "(891, 12)"
      ]
     },
     "execution_count": 266,
     "metadata": {},
     "output_type": "execute_result"
    }
   ],
   "source": [
    "# Shape of data\n",
    "data.shape"
   ]
  },
  {
   "cell_type": "markdown",
   "id": "110d7a04",
   "metadata": {},
   "source": [
    "data has total 891 rows and 12 columns we will analyse and try to understand what all columns are all about."
   ]
  },
  {
   "cell_type": "code",
   "execution_count": 267,
   "id": "4d05c799",
   "metadata": {},
   "outputs": [
    {
     "name": "stdout",
     "output_type": "stream",
     "text": [
      "<class 'pandas.core.frame.DataFrame'>\n",
      "RangeIndex: 891 entries, 0 to 890\n",
      "Data columns (total 12 columns):\n",
      " #   Column       Non-Null Count  Dtype  \n",
      "---  ------       --------------  -----  \n",
      " 0   PassengerId  891 non-null    int64  \n",
      " 1   Survived     891 non-null    int64  \n",
      " 2   Pclass       891 non-null    int64  \n",
      " 3   Name         891 non-null    object \n",
      " 4   Sex          891 non-null    object \n",
      " 5   Age          714 non-null    float64\n",
      " 6   SibSp        891 non-null    int64  \n",
      " 7   Parch        891 non-null    int64  \n",
      " 8   Ticket       891 non-null    object \n",
      " 9   Fare         891 non-null    float64\n",
      " 10  Cabin        204 non-null    object \n",
      " 11  Embarked     889 non-null    object \n",
      "dtypes: float64(2), int64(5), object(5)\n",
      "memory usage: 83.7+ KB\n"
     ]
    }
   ],
   "source": [
    "data.info()"
   ]
  },
  {
   "cell_type": "markdown",
   "id": "30853f20",
   "metadata": {},
   "source": [
    "Now we have imported the our data set of Titanic Train we can see data has 891 rows and 12 columns, Lets' discuss the columns first:\n",
    "\n",
    "   * **PassengerId** - Passenger id is absolute data, it is a seriel no. from 1 to 891 so we don't need this column in our dataset to build a model\n",
    "   * **Survived** - Survived column is target column(Binary Class) which tells whether particular passenger survived the disaster or not.(0 for not survived and 1 for survived) it is our target column we will not touch this column during our EDA.\n",
    "   * **Pclass** - Pclass column refers as Passenger economic class of traveling.(1=1st class, 2=2nd class, 3=3rd class)\n",
    "   * **Name** - Name column is name of all the pessangers traveling on the ship.(It's an object data need to convert into integers for our model as model does not accept the string data).\n",
    "   * **Age** - Passenger's age.\n",
    "   * **Sex** - Gender of the particular passenger.(Male, Female) we need to convert this into integers as well for our model building.\n",
    "   * **SibSp** - SibSp column is the count of sibling or spouse of the pessanger.\n",
    "   * **Parch** - Parch is parents or child of the pessanger if any\n",
    "   * **Ticket** - Ticket is Ticket no. of the passenger.(this is also an object data we will convert it to integer data)\n",
    "   * **Fare** - Fare is the amount paid by pessanger to buy the ticket.\n",
    "   * **Cabin** - Reserved cabin of the pessangers according to their class.(Cabin is a column of object data and also it has lots of NaN values we will look it in detail and will decide what to do with it)\n",
    "   * **Embarked** - Port of embarkation (From which port pessanger took the ride of ship), (C = Cherbourg; Q = Queenstown; S = Southampton) object data need to convert it in numbers."
   ]
  },
  {
   "cell_type": "code",
   "execution_count": null,
   "id": "b14bb604",
   "metadata": {},
   "outputs": [],
   "source": []
  },
  {
   "cell_type": "code",
   "execution_count": 268,
   "id": "b852710d",
   "metadata": {},
   "outputs": [
    {
     "data": {
      "text/plain": [
       "0    549\n",
       "1    342\n",
       "Name: Survived, dtype: int64"
      ]
     },
     "execution_count": 268,
     "metadata": {},
     "output_type": "execute_result"
    }
   ],
   "source": [
    "data.Survived.value_counts() # counting the value of class"
   ]
  },
  {
   "cell_type": "code",
   "execution_count": 269,
   "id": "132296cd",
   "metadata": {},
   "outputs": [
    {
     "data": {
      "text/plain": [
       "<AxesSubplot:xlabel='Survived', ylabel='count'>"
      ]
     },
     "execution_count": 269,
     "metadata": {},
     "output_type": "execute_result"
    },
    {
     "data": {
      "image/png": "[encoded data removed]",
      "text/plain": [
       "<Figure size 432x288 with 1 Axes>"
      ]
     },
     "metadata": {},
     "output_type": "display_data"
    }
   ],
   "source": [
    "# countplot of survived and not survived\n",
    "sns.set_style('whitegrid')\n",
    "sns.countplot(x='Survived',data=data)"
   ]
  },
  {
   "cell_type": "markdown",
   "id": "25f64676",
   "metadata": {},
   "source": [
    "Value count for survived column is ```(0 = 549, 1 = 342)``` By which we can interpret that our data is not much imbalanced "
   ]
  },
  {
   "cell_type": "code",
   "execution_count": 270,
   "id": "65cd6642",
   "metadata": {},
   "outputs": [
    {
     "data": {
      "text/plain": [
       "<AxesSubplot:xlabel='Survived', ylabel='count'>"
      ]
     },
     "execution_count": 270,
     "metadata": {},
     "output_type": "execute_result"
    },
    {
     "data": {
      "image/png": "[encoded data removed]",
      "text/plain": [
       "<Figure size 432x288 with 1 Axes>"
      ]
     },
     "metadata": {},
     "output_type": "display_data"
    }
   ],
   "source": [
    "sns.set_style('whitegrid')\n",
    "sns.countplot(x='Survived',hue='Sex',data=data,palette='RdBu_r')"
   ]
  },
  {
   "cell_type": "markdown",
   "id": "d23d95b4",
   "metadata": {},
   "source": [
    "Above seaborne statistical plot of survived with respect to Sex is showing that Female has higher chance of survival than the male. From the total no. of death (0) we can see that 470 male has died and only about 80 Female died. If we see Survival(1) the count of men who survived is about 100+ and comparatively 220 women survived. It looks like you don't wanna be a male if you are riding on Titanic The Unsinkable Ship. The Story of data is matching as of what we have seen in the movie that during the disaster female and childeren were provided the life boat and also we have seen that rich people were the first who got the help first we will see this by analysing survival with class."
   ]
  },
  {
   "cell_type": "code",
   "execution_count": 271,
   "id": "c6004882",
   "metadata": {},
   "outputs": [
    {
     "data": {
      "text/plain": [
       "<AxesSubplot:xlabel='Survived', ylabel='count'>"
      ]
     },
     "execution_count": 271,
     "metadata": {},
     "output_type": "execute_result"
    },
    {
     "data": {
      "image/png": "[encoded data removed]",
      "text/plain": [
       "<Figure size 432x288 with 1 Axes>"
      ]
     },
     "metadata": {},
     "output_type": "display_data"
    }
   ],
   "source": [
    "sns.set_style('whitegrid')\n",
    "sns.countplot(x='Survived',hue='Pclass',data=data,palette='rainbow')"
   ]
  },
  {
   "cell_type": "markdown",
   "id": "fad7ed3c",
   "metadata": {},
   "source": [
    "From above countplot of survival with respect to pessanger's class of traveling shows that people of 1st class died very less(about 80 people) comparetivly people of 3rd class(more than 360 people) and also people who survived we can see that from 1st class passenger more people survived(about 130+)"
   ]
  },
  {
   "cell_type": "code",
   "execution_count": 272,
   "id": "eacbcace",
   "metadata": {},
   "outputs": [
    {
     "data": {
      "text/plain": [
       "<AxesSubplot:xlabel='Age'>"
      ]
     },
     "execution_count": 272,
     "metadata": {},
     "output_type": "execute_result"
    },
    {
     "data": {
      "image/png": "[encoded data removed]",
      "text/plain": [
       "<Figure size 432x288 with 1 Axes>"
      ]
     },
     "metadata": {},
     "output_type": "display_data"
    }
   ],
   "source": [
    "sns.distplot(data['Age'],kde=False,color='darkblue',bins=40)  # data distribution of Age column"
   ]
  },
  {
   "cell_type": "markdown",
   "id": "8f03e33e",
   "metadata": {},
   "source": [
    "From above distplot of age we can analyse the distribution of Age of pessangers traveling on Titanic. We can see that Most of the pessangers who were traveling on ship were between age 18 to 30. there were some aged passenger were also there. a very few pessanger(4 or 5) around age 70 and it looks like one pessanger of age 80 was also onboard on the ship the data looks quit normally distributed few outliers are there but that is okay i guess. "
   ]
  },
  {
   "cell_type": "code",
   "execution_count": 273,
   "id": "e4a7fcf0",
   "metadata": {},
   "outputs": [
    {
     "data": {
      "text/plain": [
       "<AxesSubplot:xlabel='SibSp', ylabel='count'>"
      ]
     },
     "execution_count": 273,
     "metadata": {},
     "output_type": "execute_result"
    },
    {
     "data": {
      "image/png": "[encoded data removed]",
      "text/plain": [
       "<Figure size 432x288 with 1 Axes>"
      ]
     },
     "metadata": {},
     "output_type": "display_data"
    }
   ],
   "source": [
    "sns.countplot(x='SibSp',data=data) # countplot plot of SibSp"
   ]
  },
  {
   "cell_type": "markdown",
   "id": "6de9e8b7",
   "metadata": {},
   "source": [
    "As we know the ```SibSp``` column represents the data about pessanger who were traveling along with their Siblings or Spouse or both. So the above distplot shows there were maximum pessangers around 600+ who were not traveling with their sibling or spouse they were traveling alone. around 200 pessangers had either 1 sibling or spouse. around 200 pessangers were traveling either with their spouse or 1 sibling. And if we go further there were few pessengers who were traveling whose SibSp count is 8 that means total count of siblings along with spouse is 8."
   ]
  },
  {
   "cell_type": "code",
   "execution_count": 274,
   "id": "66c05743",
   "metadata": {},
   "outputs": [
    {
     "data": {
      "text/plain": [
       "<AxesSubplot:xlabel='Parch', ylabel='count'>"
      ]
     },
     "execution_count": 274,
     "metadata": {},
     "output_type": "execute_result"
    },
    {
     "data": {
      "image/png": "[encoded data removed]",
      "text/plain": [
       "<Figure size 432x288 with 1 Axes>"
      ]
     },
     "metadata": {},
     "output_type": "display_data"
    }
   ],
   "source": [
    "sns.countplot(x='Parch',data=data)"
   ]
  },
  {
   "cell_type": "markdown",
   "id": "b654f8b2",
   "metadata": {},
   "source": [
    "```Parch``` features represents the data about the pessangers who were traveling with their parents and child, in this plot also we can see that maximum people(678) have 0 ```Parch``` value that means they were not traveling with their parents and child. Apart from this there were pessengers who were traveling with their total 1 and 2 parents or childeren. a very few pessengers have the count of parents and childeren (3,4,5 and 6)."
   ]
  },
  {
   "cell_type": "code",
   "execution_count": 275,
   "id": "c828b302",
   "metadata": {},
   "outputs": [
    {
     "data": {
      "text/plain": [
       "<AxesSubplot:xlabel='Fare'>"
      ]
     },
     "execution_count": 275,
     "metadata": {},
     "output_type": "execute_result"
    },
    {
     "data": {
      "image/png": "[encoded data removed]",
      "text/plain": [
       "<Figure size 432x288 with 1 Axes>"
      ]
     },
     "metadata": {},
     "output_type": "display_data"
    }
   ],
   "source": [
    "sns.distplot(data['Fare'],kde=False,color='green')"
   ]
  },
  {
   "cell_type": "markdown",
   "id": "e4e6c46b",
   "metadata": {},
   "source": [
    "Maximum people paid the price to onnboard the ship was 0 to 10 british pound which is around 340 people paid this price and average price we can see from the distribution plot that average Fare which pessanger paid to onboard the ship is 0 to 30 british pound. there were people(3) who paid more than 500 british pond to onboard the ship. few people(17) who paid the fare between 200 to 300 British pound."
   ]
  },
  {
   "cell_type": "code",
   "execution_count": 276,
   "id": "1f5ed2ec",
   "metadata": {},
   "outputs": [
    {
     "data": {
      "text/plain": [
       "<AxesSubplot:xlabel='Embarked', ylabel='count'>"
      ]
     },
     "execution_count": 276,
     "metadata": {},
     "output_type": "execute_result"
    },
    {
     "data": {
      "image/png": "[encoded data removed]",
      "text/plain": [
       "<Figure size 432x288 with 1 Axes>"
      ]
     },
     "metadata": {},
     "output_type": "display_data"
    }
   ],
   "source": [
    "sns.countplot(data['Embarked'],color='orange')"
   ]
  },
  {
   "cell_type": "markdown",
   "id": "343a12a7",
   "metadata": {},
   "source": [
    "Embarked is the column which shows the embarkation port from which the different different pessanger onboarded the ship in which\n",
    "   * **S** = Southampton\n",
    "   * **C** = Cherbourg\n",
    "   * **Q** = Queenstown\n",
    "   \n",
    "These 3 are the ports from where the embarkation of the port was happened and from the data we can understand that the maximum pessanger who were onboarded on the ship was embarked through Southampton port."
   ]
  },
  {
   "cell_type": "code",
   "execution_count": 277,
   "id": "06ead3af",
   "metadata": {},
   "outputs": [
    {
     "data": {
      "text/plain": [
       "<AxesSubplot:xlabel='Embarked', ylabel='count'>"
      ]
     },
     "execution_count": 277,
     "metadata": {},
     "output_type": "execute_result"
    },
    {
     "data": {
      "image/png": "[encoded data removed]",
      "text/plain": [
       "<Figure size 432x288 with 1 Axes>"
      ]
     },
     "metadata": {},
     "output_type": "display_data"
    }
   ],
   "source": [
    "sns.set_style('whitegrid')\n",
    "sns.countplot(x='Embarked',hue='Survived',data=data)"
   ]
  },
  {
   "cell_type": "markdown",
   "id": "af8775de",
   "metadata": {},
   "source": [
    "From above countplot between Embarked and survived we can see that maximum people who died was embarked from Southampton port this is also true because the maximum people were embarked from the southampton port but out of 600+ people from southampton port 400+ were not survived. We can also see that the survival rate of pessenger who embarked from Cherbourg port is more than who died."
   ]
  },
  {
   "cell_type": "markdown",
   "id": "93c04706",
   "metadata": {},
   "source": [
    "## Data Cleaning\n",
    "#### Let's deal with null values"
   ]
  },
  {
   "cell_type": "code",
   "execution_count": 278,
   "id": "30804317",
   "metadata": {},
   "outputs": [
    {
     "data": {
      "text/plain": [
       "PassengerId      0\n",
       "Survived         0\n",
       "Pclass           0\n",
       "Name             0\n",
       "Sex              0\n",
       "Age            177\n",
       "SibSp            0\n",
       "Parch            0\n",
       "Ticket           0\n",
       "Fare             0\n",
       "Cabin          687\n",
       "Embarked         2\n",
       "dtype: int64"
      ]
     },
     "execution_count": 278,
     "metadata": {},
     "output_type": "execute_result"
    }
   ],
   "source": [
    "data.isna().sum()"
   ]
  },
  {
   "cell_type": "markdown",
   "id": "e529ee99",
   "metadata": {},
   "source": [
    "In our data set 3 features has ```NaN``` (Null) Values that is **Age**, **Cabin**, **Embarked** we need to look for it and resolve this for our ML model. Here we can see clearly that out of 891 data **Cabin** feature has 687 ```NaN``` value which is 77% of data which is missing, so filling these amount of ```NaN``` will not help in our ML Model it is better to drop the feature from data set."
   ]
  },
  {
   "cell_type": "markdown",
   "id": "89b1418d",
   "metadata": {},
   "source": [
    "First we will look after the ```Age``` column to fill null values. To fill null values in Age column we can apply one simple method that is to replace the null values with the mean of the age. But if we think little smarter we have some other features related to age too like ```Pclass``` Passengers on ship were divided by 3 different classes and each class has their own mean age value. so we can fill the null values on Age column with mean value according to their class."
   ]
  },
  {
   "cell_type": "code",
   "execution_count": 279,
   "id": "a77bc774",
   "metadata": {},
   "outputs": [
    {
     "data": {
      "text/plain": [
       "<AxesSubplot:xlabel='Pclass', ylabel='Age'>"
      ]
     },
     "execution_count": 279,
     "metadata": {},
     "output_type": "execute_result"
    },
    {
     "data": {
      "image/png": "[encoded data removed]",
      "text/plain": [
       "<Figure size 1080x720 with 1 Axes>"
      ]
     },
     "metadata": {},
     "output_type": "display_data"
    }
   ],
   "source": [
    "# ploting a boxplot of age and pclass which will give us quantile scores of pclass\n",
    "plt.figure(figsize=(15,10))\n",
    "sns.boxplot(x=data['Pclass'],y='Age',data=data,palette='winter')"
   ]
  },
  {
   "cell_type": "markdown",
   "id": "555ca903",
   "metadata": {},
   "source": [
    "From above boxplot we have quantile data of Age according to the class of the pessangers. So we can see that Average age of 1st class passenger is 37, Average age of 2nd class passenger is 29 and Average age of 3rd class passenger is 24. So now we will define a function where we can fit these different different class's mean age to the age column according to the class of the pessanger."
   ]
  },
  {
   "cell_type": "code",
   "execution_count": 280,
   "id": "adf83630",
   "metadata": {},
   "outputs": [],
   "source": [
    "def fill_age (col):\n",
    "    Age = col[0]\n",
    "    Pclass = col[1]\n",
    "    \n",
    "    if pd.isnull(Age):\n",
    "        if Pclass==1:\n",
    "            return 37 # considering 37 as mean value of 1st class passenger\n",
    "        elif Pclass==2:\n",
    "            return 29 # considering 29 as mean value of 2nd class passenger\n",
    "        else:\n",
    "            return 24 # considering 24 as the 3rd class passenger's average age\n",
    "    else:\n",
    "        return Age"
   ]
  },
  {
   "cell_type": "code",
   "execution_count": 281,
   "id": "fdd8f7d0",
   "metadata": {},
   "outputs": [
    {
     "data": {
      "text/plain": [
       "<function __main__.fill_age(col)>"
      ]
     },
     "execution_count": 281,
     "metadata": {},
     "output_type": "execute_result"
    }
   ],
   "source": [
    "fill_age"
   ]
  },
  {
   "cell_type": "code",
   "execution_count": 282,
   "id": "161aa19e",
   "metadata": {},
   "outputs": [],
   "source": [
    "# filling the null values in age column by .apply method with the function which we defined.\n",
    "data['Age'] = data[['Age','Pclass']].apply(fill_age,axis=1) "
   ]
  },
  {
   "cell_type": "code",
   "execution_count": 283,
   "id": "8f88fe0f",
   "metadata": {},
   "outputs": [
    {
     "data": {
      "text/plain": [
       "PassengerId      0\n",
       "Survived         0\n",
       "Pclass           0\n",
       "Name             0\n",
       "Sex              0\n",
       "Age              0\n",
       "SibSp            0\n",
       "Parch            0\n",
       "Ticket           0\n",
       "Fare             0\n",
       "Cabin          687\n",
       "Embarked         2\n",
       "dtype: int64"
      ]
     },
     "execution_count": 283,
     "metadata": {},
     "output_type": "execute_result"
    }
   ],
   "source": [
    "data.isna().sum()"
   ]
  },
  {
   "cell_type": "markdown",
   "id": "59dbdb66",
   "metadata": {},
   "source": [
    "The Null values in Age column has successfully filled with the defined method, now we can see that we do not have any null values in Age column. we have left with the Cabin and Embarked column, let's see what we can do ahead with these two columns. As we can see that Embarked column has only 2 data points missing which is very easy to fill as we know that Titanic had 3 embarkation point that is C, S & Q and the most peaple were embarked on ship from S(Southampton) so we will fill these 2 values with S as the probability of the being S on these Nan value is higher."
   ]
  },
  {
   "cell_type": "code",
   "execution_count": 284,
   "id": "831cf199",
   "metadata": {},
   "outputs": [],
   "source": [
    "# filling null values on Embarked column\n",
    "data['Embarked'] = data['Embarked'].fillna(data['Embarked'].mode()[0])"
   ]
  },
  {
   "cell_type": "code",
   "execution_count": 285,
   "id": "0b4ee6dd",
   "metadata": {},
   "outputs": [
    {
     "data": {
      "text/plain": [
       "PassengerId      0\n",
       "Survived         0\n",
       "Pclass           0\n",
       "Name             0\n",
       "Sex              0\n",
       "Age              0\n",
       "SibSp            0\n",
       "Parch            0\n",
       "Ticket           0\n",
       "Fare             0\n",
       "Cabin          687\n",
       "Embarked         0\n",
       "dtype: int64"
      ]
     },
     "execution_count": 285,
     "metadata": {},
     "output_type": "execute_result"
    }
   ],
   "source": [
    "data.isna().sum()"
   ]
  },
  {
   "cell_type": "markdown",
   "id": "96c4f07a",
   "metadata": {},
   "source": [
    "Embarked and Age both the column's NaN values has been filled, now we have left Cabin column with NaN values. We can see that Cabin column has too many NaN values 687 out 891 that is about 77% data from Cabin column is missing. It's good if we drop this column, also we do not require the PassengerId column as it is absolute seriel no. which is provided to passengers as unique ID and also name of the pessangers and Ticket ID will not help us to find the survival probability of the pessangers too so we will drop the column that is ```PassengerId```, ```Cabin```, ```Name``` & ```Ticket``` from the data set."
   ]
  },
  {
   "cell_type": "markdown",
   "id": "8aec89c2",
   "metadata": {},
   "source": [
    "#### Let's drop the features which we do not require to build the model"
   ]
  },
  {
   "cell_type": "code",
   "execution_count": 286,
   "id": "0538989b",
   "metadata": {},
   "outputs": [
    {
     "data": {
      "text/html": [
       "<div>\n",
       "<style scoped>\n",
       "    .dataframe tbody tr th:only-of-type {\n",
       "        vertical-align: middle;\n",
       "    }\n",
       "\n",
       "    .dataframe tbody tr th {\n",
       "        vertical-align: top;\n",
       "    }\n",
       "\n",
       "    .dataframe thead th {\n",
       "        text-align: right;\n",
       "    }\n",
       "</style>\n",
       "<table border=\"1\" class=\"dataframe\">\n",
       "  <thead>\n",
       "    <tr style=\"text-align: right;\">\n",
       "      <th></th>\n",
       "      <th>Survived</th>\n",
       "      <th>Pclass</th>\n",
       "      <th>Sex</th>\n",
       "      <th>Age</th>\n",
       "      <th>SibSp</th>\n",
       "      <th>Parch</th>\n",
       "      <th>Fare</th>\n",
       "      <th>Embarked</th>\n",
       "    </tr>\n",
       "  </thead>\n",
       "  <tbody>\n",
       "    <tr>\n",
       "      <th>0</th>\n",
       "      <td>0</td>\n",
       "      <td>3</td>\n",
       "      <td>male</td>\n",
       "      <td>22.0</td>\n",
       "      <td>1</td>\n",
       "      <td>0</td>\n",
       "      <td>7.2500</td>\n",
       "      <td>S</td>\n",
       "    </tr>\n",
       "    <tr>\n",
       "      <th>1</th>\n",
       "      <td>1</td>\n",
       "      <td>1</td>\n",
       "      <td>female</td>\n",
       "      <td>38.0</td>\n",
       "      <td>1</td>\n",
       "      <td>0</td>\n",
       "      <td>71.2833</td>\n",
       "      <td>C</td>\n",
       "    </tr>\n",
       "    <tr>\n",
       "      <th>2</th>\n",
       "      <td>1</td>\n",
       "      <td>3</td>\n",
       "      <td>female</td>\n",
       "      <td>26.0</td>\n",
       "      <td>0</td>\n",
       "      <td>0</td>\n",
       "      <td>7.9250</td>\n",
       "      <td>S</td>\n",
       "    </tr>\n",
       "    <tr>\n",
       "      <th>3</th>\n",
       "      <td>1</td>\n",
       "      <td>1</td>\n",
       "      <td>female</td>\n",
       "      <td>35.0</td>\n",
       "      <td>1</td>\n",
       "      <td>0</td>\n",
       "      <td>53.1000</td>\n",
       "      <td>S</td>\n",
       "    </tr>\n",
       "    <tr>\n",
       "      <th>4</th>\n",
       "      <td>0</td>\n",
       "      <td>3</td>\n",
       "      <td>male</td>\n",
       "      <td>35.0</td>\n",
       "      <td>0</td>\n",
       "      <td>0</td>\n",
       "      <td>8.0500</td>\n",
       "      <td>S</td>\n",
       "    </tr>\n",
       "    <tr>\n",
       "      <th>...</th>\n",
       "      <td>...</td>\n",
       "      <td>...</td>\n",
       "      <td>...</td>\n",
       "      <td>...</td>\n",
       "      <td>...</td>\n",
       "      <td>...</td>\n",
       "      <td>...</td>\n",
       "      <td>...</td>\n",
       "    </tr>\n",
       "    <tr>\n",
       "      <th>886</th>\n",
       "      <td>0</td>\n",
       "      <td>2</td>\n",
       "      <td>male</td>\n",
       "      <td>27.0</td>\n",
       "      <td>0</td>\n",
       "      <td>0</td>\n",
       "      <td>13.0000</td>\n",
       "      <td>S</td>\n",
       "    </tr>\n",
       "    <tr>\n",
       "      <th>887</th>\n",
       "      <td>1</td>\n",
       "      <td>1</td>\n",
       "      <td>female</td>\n",
       "      <td>19.0</td>\n",
       "      <td>0</td>\n",
       "      <td>0</td>\n",
       "      <td>30.0000</td>\n",
       "      <td>S</td>\n",
       "    </tr>\n",
       "    <tr>\n",
       "      <th>888</th>\n",
       "      <td>0</td>\n",
       "      <td>3</td>\n",
       "      <td>female</td>\n",
       "      <td>24.0</td>\n",
       "      <td>1</td>\n",
       "      <td>2</td>\n",
       "      <td>23.4500</td>\n",
       "      <td>S</td>\n",
       "    </tr>\n",
       "    <tr>\n",
       "      <th>889</th>\n",
       "      <td>1</td>\n",
       "      <td>1</td>\n",
       "      <td>male</td>\n",
       "      <td>26.0</td>\n",
       "      <td>0</td>\n",
       "      <td>0</td>\n",
       "      <td>30.0000</td>\n",
       "      <td>C</td>\n",
       "    </tr>\n",
       "    <tr>\n",
       "      <th>890</th>\n",
       "      <td>0</td>\n",
       "      <td>3</td>\n",
       "      <td>male</td>\n",
       "      <td>32.0</td>\n",
       "      <td>0</td>\n",
       "      <td>0</td>\n",
       "      <td>7.7500</td>\n",
       "      <td>Q</td>\n",
       "    </tr>\n",
       "  </tbody>\n",
       "</table>\n",
       "<p>891 rows × 8 columns</p>\n",
       "</div>"
      ],
      "text/plain": [
       "     Survived  Pclass     Sex   Age  SibSp  Parch     Fare Embarked\n",
       "0           0       3    male  22.0      1      0   7.2500        S\n",
       "1           1       1  female  38.0      1      0  71.2833        C\n",
       "2           1       3  female  26.0      0      0   7.9250        S\n",
       "3           1       1  female  35.0      1      0  53.1000        S\n",
       "4           0       3    male  35.0      0      0   8.0500        S\n",
       "..        ...     ...     ...   ...    ...    ...      ...      ...\n",
       "886         0       2    male  27.0      0      0  13.0000        S\n",
       "887         1       1  female  19.0      0      0  30.0000        S\n",
       "888         0       3  female  24.0      1      2  23.4500        S\n",
       "889         1       1    male  26.0      0      0  30.0000        C\n",
       "890         0       3    male  32.0      0      0   7.7500        Q\n",
       "\n",
       "[891 rows x 8 columns]"
      ]
     },
     "execution_count": 286,
     "metadata": {},
     "output_type": "execute_result"
    }
   ],
   "source": [
    "# we will drop Passenger Id column and Cabin column as discussed above\n",
    "data = data.drop(columns = ['PassengerId','Cabin','Name','Ticket'])\n",
    "data"
   ]
  },
  {
   "cell_type": "code",
   "execution_count": 287,
   "id": "692e77f2",
   "metadata": {},
   "outputs": [
    {
     "name": "stdout",
     "output_type": "stream",
     "text": [
      "<class 'pandas.core.frame.DataFrame'>\n",
      "RangeIndex: 891 entries, 0 to 890\n",
      "Data columns (total 8 columns):\n",
      " #   Column    Non-Null Count  Dtype  \n",
      "---  ------    --------------  -----  \n",
      " 0   Survived  891 non-null    int64  \n",
      " 1   Pclass    891 non-null    int64  \n",
      " 2   Sex       891 non-null    object \n",
      " 3   Age       891 non-null    float64\n",
      " 4   SibSp     891 non-null    int64  \n",
      " 5   Parch     891 non-null    int64  \n",
      " 6   Fare      891 non-null    float64\n",
      " 7   Embarked  891 non-null    object \n",
      "dtypes: float64(2), int64(4), object(2)\n",
      "memory usage: 55.8+ KB\n"
     ]
    }
   ],
   "source": [
    "# let's recheck our dataset\n",
    "data.info()"
   ]
  },
  {
   "cell_type": "markdown",
   "id": "d7a8d569",
   "metadata": {},
   "source": [
    "We can see that now we don't have any null values in our column. Now we have to take care of object columns, there are 4 columns which data type is object, so let's fix them."
   ]
  },
  {
   "cell_type": "code",
   "execution_count": 288,
   "id": "24aea5e5",
   "metadata": {},
   "outputs": [],
   "source": [
    "leb_enc = LabelEncoder()"
   ]
  },
  {
   "cell_type": "code",
   "execution_count": 289,
   "id": "50345e02",
   "metadata": {},
   "outputs": [],
   "source": [
    "# Let's encode the feature having object data type\n",
    "embarked = leb_enc.fit_transform(data['Embarked'])\n",
    "sex = leb_enc.fit_transform(data['Sex'])"
   ]
  },
  {
   "cell_type": "code",
   "execution_count": 290,
   "id": "c56ac9ba",
   "metadata": {},
   "outputs": [],
   "source": [
    "# combining all encoded features with original dataset\n",
    "data['Embarked'] = embarked\n",
    "data['Sex'] = sex"
   ]
  },
  {
   "cell_type": "code",
   "execution_count": 291,
   "id": "546651d3",
   "metadata": {},
   "outputs": [
    {
     "data": {
      "text/html": [
       "<div>\n",
       "<style scoped>\n",
       "    .dataframe tbody tr th:only-of-type {\n",
       "        vertical-align: middle;\n",
       "    }\n",
       "\n",
       "    .dataframe tbody tr th {\n",
       "        vertical-align: top;\n",
       "    }\n",
       "\n",
       "    .dataframe thead th {\n",
       "        text-align: right;\n",
       "    }\n",
       "</style>\n",
       "<table border=\"1\" class=\"dataframe\">\n",
       "  <thead>\n",
       "    <tr style=\"text-align: right;\">\n",
       "      <th></th>\n",
       "      <th>Survived</th>\n",
       "      <th>Pclass</th>\n",
       "      <th>Sex</th>\n",
       "      <th>Age</th>\n",
       "      <th>SibSp</th>\n",
       "      <th>Parch</th>\n",
       "      <th>Fare</th>\n",
       "      <th>Embarked</th>\n",
       "    </tr>\n",
       "  </thead>\n",
       "  <tbody>\n",
       "    <tr>\n",
       "      <th>0</th>\n",
       "      <td>0</td>\n",
       "      <td>3</td>\n",
       "      <td>1</td>\n",
       "      <td>22.0</td>\n",
       "      <td>1</td>\n",
       "      <td>0</td>\n",
       "      <td>7.2500</td>\n",
       "      <td>2</td>\n",
       "    </tr>\n",
       "    <tr>\n",
       "      <th>1</th>\n",
       "      <td>1</td>\n",
       "      <td>1</td>\n",
       "      <td>0</td>\n",
       "      <td>38.0</td>\n",
       "      <td>1</td>\n",
       "      <td>0</td>\n",
       "      <td>71.2833</td>\n",
       "      <td>0</td>\n",
       "    </tr>\n",
       "    <tr>\n",
       "      <th>2</th>\n",
       "      <td>1</td>\n",
       "      <td>3</td>\n",
       "      <td>0</td>\n",
       "      <td>26.0</td>\n",
       "      <td>0</td>\n",
       "      <td>0</td>\n",
       "      <td>7.9250</td>\n",
       "      <td>2</td>\n",
       "    </tr>\n",
       "    <tr>\n",
       "      <th>3</th>\n",
       "      <td>1</td>\n",
       "      <td>1</td>\n",
       "      <td>0</td>\n",
       "      <td>35.0</td>\n",
       "      <td>1</td>\n",
       "      <td>0</td>\n",
       "      <td>53.1000</td>\n",
       "      <td>2</td>\n",
       "    </tr>\n",
       "    <tr>\n",
       "      <th>4</th>\n",
       "      <td>0</td>\n",
       "      <td>3</td>\n",
       "      <td>1</td>\n",
       "      <td>35.0</td>\n",
       "      <td>0</td>\n",
       "      <td>0</td>\n",
       "      <td>8.0500</td>\n",
       "      <td>2</td>\n",
       "    </tr>\n",
       "    <tr>\n",
       "      <th>...</th>\n",
       "      <td>...</td>\n",
       "      <td>...</td>\n",
       "      <td>...</td>\n",
       "      <td>...</td>\n",
       "      <td>...</td>\n",
       "      <td>...</td>\n",
       "      <td>...</td>\n",
       "      <td>...</td>\n",
       "    </tr>\n",
       "    <tr>\n",
       "      <th>886</th>\n",
       "      <td>0</td>\n",
       "      <td>2</td>\n",
       "      <td>1</td>\n",
       "      <td>27.0</td>\n",
       "      <td>0</td>\n",
       "      <td>0</td>\n",
       "      <td>13.0000</td>\n",
       "      <td>2</td>\n",
       "    </tr>\n",
       "    <tr>\n",
       "      <th>887</th>\n",
       "      <td>1</td>\n",
       "      <td>1</td>\n",
       "      <td>0</td>\n",
       "      <td>19.0</td>\n",
       "      <td>0</td>\n",
       "      <td>0</td>\n",
       "      <td>30.0000</td>\n",
       "      <td>2</td>\n",
       "    </tr>\n",
       "    <tr>\n",
       "      <th>888</th>\n",
       "      <td>0</td>\n",
       "      <td>3</td>\n",
       "      <td>0</td>\n",
       "      <td>24.0</td>\n",
       "      <td>1</td>\n",
       "      <td>2</td>\n",
       "      <td>23.4500</td>\n",
       "      <td>2</td>\n",
       "    </tr>\n",
       "    <tr>\n",
       "      <th>889</th>\n",
       "      <td>1</td>\n",
       "      <td>1</td>\n",
       "      <td>1</td>\n",
       "      <td>26.0</td>\n",
       "      <td>0</td>\n",
       "      <td>0</td>\n",
       "      <td>30.0000</td>\n",
       "      <td>0</td>\n",
       "    </tr>\n",
       "    <tr>\n",
       "      <th>890</th>\n",
       "      <td>0</td>\n",
       "      <td>3</td>\n",
       "      <td>1</td>\n",
       "      <td>32.0</td>\n",
       "      <td>0</td>\n",
       "      <td>0</td>\n",
       "      <td>7.7500</td>\n",
       "      <td>1</td>\n",
       "    </tr>\n",
       "  </tbody>\n",
       "</table>\n",
       "<p>891 rows × 8 columns</p>\n",
       "</div>"
      ],
      "text/plain": [
       "     Survived  Pclass  Sex   Age  SibSp  Parch     Fare  Embarked\n",
       "0           0       3    1  22.0      1      0   7.2500         2\n",
       "1           1       1    0  38.0      1      0  71.2833         0\n",
       "2           1       3    0  26.0      0      0   7.9250         2\n",
       "3           1       1    0  35.0      1      0  53.1000         2\n",
       "4           0       3    1  35.0      0      0   8.0500         2\n",
       "..        ...     ...  ...   ...    ...    ...      ...       ...\n",
       "886         0       2    1  27.0      0      0  13.0000         2\n",
       "887         1       1    0  19.0      0      0  30.0000         2\n",
       "888         0       3    0  24.0      1      2  23.4500         2\n",
       "889         1       1    1  26.0      0      0  30.0000         0\n",
       "890         0       3    1  32.0      0      0   7.7500         1\n",
       "\n",
       "[891 rows x 8 columns]"
      ]
     },
     "execution_count": 291,
     "metadata": {},
     "output_type": "execute_result"
    }
   ],
   "source": [
    "data"
   ]
  },
  {
   "cell_type": "code",
   "execution_count": 292,
   "id": "39b5b376",
   "metadata": {},
   "outputs": [
    {
     "name": "stdout",
     "output_type": "stream",
     "text": [
      "<class 'pandas.core.frame.DataFrame'>\n",
      "RangeIndex: 891 entries, 0 to 890\n",
      "Data columns (total 8 columns):\n",
      " #   Column    Non-Null Count  Dtype  \n",
      "---  ------    --------------  -----  \n",
      " 0   Survived  891 non-null    int64  \n",
      " 1   Pclass    891 non-null    int64  \n",
      " 2   Sex       891 non-null    int32  \n",
      " 3   Age       891 non-null    float64\n",
      " 4   SibSp     891 non-null    int64  \n",
      " 5   Parch     891 non-null    int64  \n",
      " 6   Fare      891 non-null    float64\n",
      " 7   Embarked  891 non-null    int32  \n",
      "dtypes: float64(2), int32(2), int64(4)\n",
      "memory usage: 48.9 KB\n"
     ]
    }
   ],
   "source": [
    "data.info()"
   ]
  },
  {
   "cell_type": "code",
   "execution_count": 293,
   "id": "7cc46087",
   "metadata": {},
   "outputs": [
    {
     "data": {
      "text/plain": [
       "0      22.0\n",
       "1      38.0\n",
       "2      26.0\n",
       "3      35.0\n",
       "4      35.0\n",
       "       ... \n",
       "886    27.0\n",
       "887    19.0\n",
       "888    24.0\n",
       "889    26.0\n",
       "890    32.0\n",
       "Name: Age, Length: 891, dtype: float64"
      ]
     },
     "execution_count": 293,
     "metadata": {},
     "output_type": "execute_result"
    }
   ],
   "source": [
    "data['Age']"
   ]
  },
  {
   "cell_type": "code",
   "execution_count": 294,
   "id": "febbe29e",
   "metadata": {},
   "outputs": [
    {
     "name": "stdout",
     "output_type": "stream",
     "text": [
      "<class 'pandas.core.frame.DataFrame'>\n",
      "RangeIndex: 891 entries, 0 to 890\n",
      "Data columns (total 8 columns):\n",
      " #   Column    Non-Null Count  Dtype  \n",
      "---  ------    --------------  -----  \n",
      " 0   Survived  891 non-null    int64  \n",
      " 1   Pclass    891 non-null    int64  \n",
      " 2   Sex       891 non-null    int32  \n",
      " 3   Age       891 non-null    float64\n",
      " 4   SibSp     891 non-null    int64  \n",
      " 5   Parch     891 non-null    int64  \n",
      " 6   Fare      891 non-null    float64\n",
      " 7   Embarked  891 non-null    int32  \n",
      "dtypes: float64(2), int32(2), int64(4)\n",
      "memory usage: 48.9 KB\n"
     ]
    }
   ],
   "source": [
    "data.info()"
   ]
  },
  {
   "cell_type": "code",
   "execution_count": 295,
   "id": "f617ed4e",
   "metadata": {},
   "outputs": [
    {
     "data": {
      "text/html": [
       "<div>\n",
       "<style scoped>\n",
       "    .dataframe tbody tr th:only-of-type {\n",
       "        vertical-align: middle;\n",
       "    }\n",
       "\n",
       "    .dataframe tbody tr th {\n",
       "        vertical-align: top;\n",
       "    }\n",
       "\n",
       "    .dataframe thead th {\n",
       "        text-align: right;\n",
       "    }\n",
       "</style>\n",
       "<table border=\"1\" class=\"dataframe\">\n",
       "  <thead>\n",
       "    <tr style=\"text-align: right;\">\n",
       "      <th></th>\n",
       "      <th>Survived</th>\n",
       "      <th>Pclass</th>\n",
       "      <th>Sex</th>\n",
       "      <th>Age</th>\n",
       "      <th>SibSp</th>\n",
       "      <th>Parch</th>\n",
       "      <th>Fare</th>\n",
       "      <th>Embarked</th>\n",
       "    </tr>\n",
       "  </thead>\n",
       "  <tbody>\n",
       "    <tr>\n",
       "      <th>count</th>\n",
       "      <td>891.000000</td>\n",
       "      <td>891.000000</td>\n",
       "      <td>891.000000</td>\n",
       "      <td>891.000000</td>\n",
       "      <td>891.000000</td>\n",
       "      <td>891.000000</td>\n",
       "      <td>891.000000</td>\n",
       "      <td>891.000000</td>\n",
       "    </tr>\n",
       "    <tr>\n",
       "      <th>mean</th>\n",
       "      <td>0.383838</td>\n",
       "      <td>2.308642</td>\n",
       "      <td>0.647587</td>\n",
       "      <td>29.066409</td>\n",
       "      <td>0.523008</td>\n",
       "      <td>0.381594</td>\n",
       "      <td>32.204208</td>\n",
       "      <td>1.536476</td>\n",
       "    </tr>\n",
       "    <tr>\n",
       "      <th>std</th>\n",
       "      <td>0.486592</td>\n",
       "      <td>0.836071</td>\n",
       "      <td>0.477990</td>\n",
       "      <td>13.244532</td>\n",
       "      <td>1.102743</td>\n",
       "      <td>0.806057</td>\n",
       "      <td>49.693429</td>\n",
       "      <td>0.791503</td>\n",
       "    </tr>\n",
       "    <tr>\n",
       "      <th>min</th>\n",
       "      <td>0.000000</td>\n",
       "      <td>1.000000</td>\n",
       "      <td>0.000000</td>\n",
       "      <td>0.420000</td>\n",
       "      <td>0.000000</td>\n",
       "      <td>0.000000</td>\n",
       "      <td>0.000000</td>\n",
       "      <td>0.000000</td>\n",
       "    </tr>\n",
       "    <tr>\n",
       "      <th>25%</th>\n",
       "      <td>0.000000</td>\n",
       "      <td>2.000000</td>\n",
       "      <td>0.000000</td>\n",
       "      <td>22.000000</td>\n",
       "      <td>0.000000</td>\n",
       "      <td>0.000000</td>\n",
       "      <td>7.910400</td>\n",
       "      <td>1.000000</td>\n",
       "    </tr>\n",
       "    <tr>\n",
       "      <th>50%</th>\n",
       "      <td>0.000000</td>\n",
       "      <td>3.000000</td>\n",
       "      <td>1.000000</td>\n",
       "      <td>26.000000</td>\n",
       "      <td>0.000000</td>\n",
       "      <td>0.000000</td>\n",
       "      <td>14.454200</td>\n",
       "      <td>2.000000</td>\n",
       "    </tr>\n",
       "    <tr>\n",
       "      <th>75%</th>\n",
       "      <td>1.000000</td>\n",
       "      <td>3.000000</td>\n",
       "      <td>1.000000</td>\n",
       "      <td>37.000000</td>\n",
       "      <td>1.000000</td>\n",
       "      <td>0.000000</td>\n",
       "      <td>31.000000</td>\n",
       "      <td>2.000000</td>\n",
       "    </tr>\n",
       "    <tr>\n",
       "      <th>max</th>\n",
       "      <td>1.000000</td>\n",
       "      <td>3.000000</td>\n",
       "      <td>1.000000</td>\n",
       "      <td>80.000000</td>\n",
       "      <td>8.000000</td>\n",
       "      <td>6.000000</td>\n",
       "      <td>512.329200</td>\n",
       "      <td>2.000000</td>\n",
       "    </tr>\n",
       "  </tbody>\n",
       "</table>\n",
       "</div>"
      ],
      "text/plain": [
       "         Survived      Pclass         Sex         Age       SibSp       Parch  \\\n",
       "count  891.000000  891.000000  891.000000  891.000000  891.000000  891.000000   \n",
       "mean     0.383838    2.308642    0.647587   29.066409    0.523008    0.381594   \n",
       "std      0.486592    0.836071    0.477990   13.244532    1.102743    0.806057   \n",
       "min      0.000000    1.000000    0.000000    0.420000    0.000000    0.000000   \n",
       "25%      0.000000    2.000000    0.000000   22.000000    0.000000    0.000000   \n",
       "50%      0.000000    3.000000    1.000000   26.000000    0.000000    0.000000   \n",
       "75%      1.000000    3.000000    1.000000   37.000000    1.000000    0.000000   \n",
       "max      1.000000    3.000000    1.000000   80.000000    8.000000    6.000000   \n",
       "\n",
       "             Fare    Embarked  \n",
       "count  891.000000  891.000000  \n",
       "mean    32.204208    1.536476  \n",
       "std     49.693429    0.791503  \n",
       "min      0.000000    0.000000  \n",
       "25%      7.910400    1.000000  \n",
       "50%     14.454200    2.000000  \n",
       "75%     31.000000    2.000000  \n",
       "max    512.329200    2.000000  "
      ]
     },
     "execution_count": 295,
     "metadata": {},
     "output_type": "execute_result"
    }
   ],
   "source": [
    "# Let's check data description\n",
    "data.describe()"
   ]
  },
  {
   "cell_type": "code",
   "execution_count": 296,
   "id": "3c5f8f09",
   "metadata": {},
   "outputs": [
    {
     "data": {
      "text/html": [
       "<div>\n",
       "<style scoped>\n",
       "    .dataframe tbody tr th:only-of-type {\n",
       "        vertical-align: middle;\n",
       "    }\n",
       "\n",
       "    .dataframe tbody tr th {\n",
       "        vertical-align: top;\n",
       "    }\n",
       "\n",
       "    .dataframe thead th {\n",
       "        text-align: right;\n",
       "    }\n",
       "</style>\n",
       "<table border=\"1\" class=\"dataframe\">\n",
       "  <thead>\n",
       "    <tr style=\"text-align: right;\">\n",
       "      <th></th>\n",
       "      <th>Survived</th>\n",
       "      <th>Pclass</th>\n",
       "      <th>Sex</th>\n",
       "      <th>Age</th>\n",
       "      <th>SibSp</th>\n",
       "      <th>Parch</th>\n",
       "      <th>Fare</th>\n",
       "      <th>Embarked</th>\n",
       "    </tr>\n",
       "  </thead>\n",
       "  <tbody>\n",
       "    <tr>\n",
       "      <th>Survived</th>\n",
       "      <td>1.000000</td>\n",
       "      <td>-0.338481</td>\n",
       "      <td>-0.543351</td>\n",
       "      <td>-0.047255</td>\n",
       "      <td>-0.035322</td>\n",
       "      <td>0.081629</td>\n",
       "      <td>0.257307</td>\n",
       "      <td>-0.167675</td>\n",
       "    </tr>\n",
       "    <tr>\n",
       "      <th>Pclass</th>\n",
       "      <td>-0.338481</td>\n",
       "      <td>1.000000</td>\n",
       "      <td>0.131900</td>\n",
       "      <td>-0.408487</td>\n",
       "      <td>0.083081</td>\n",
       "      <td>0.018443</td>\n",
       "      <td>-0.549500</td>\n",
       "      <td>0.162098</td>\n",
       "    </tr>\n",
       "    <tr>\n",
       "      <th>Sex</th>\n",
       "      <td>-0.543351</td>\n",
       "      <td>0.131900</td>\n",
       "      <td>1.000000</td>\n",
       "      <td>0.078421</td>\n",
       "      <td>-0.114631</td>\n",
       "      <td>-0.245489</td>\n",
       "      <td>-0.182333</td>\n",
       "      <td>0.108262</td>\n",
       "    </tr>\n",
       "    <tr>\n",
       "      <th>Age</th>\n",
       "      <td>-0.047255</td>\n",
       "      <td>-0.408487</td>\n",
       "      <td>0.078421</td>\n",
       "      <td>1.000000</td>\n",
       "      <td>-0.243526</td>\n",
       "      <td>-0.171095</td>\n",
       "      <td>0.123784</td>\n",
       "      <td>-0.011245</td>\n",
       "    </tr>\n",
       "    <tr>\n",
       "      <th>SibSp</th>\n",
       "      <td>-0.035322</td>\n",
       "      <td>0.083081</td>\n",
       "      <td>-0.114631</td>\n",
       "      <td>-0.243526</td>\n",
       "      <td>1.000000</td>\n",
       "      <td>0.414838</td>\n",
       "      <td>0.159651</td>\n",
       "      <td>0.068230</td>\n",
       "    </tr>\n",
       "    <tr>\n",
       "      <th>Parch</th>\n",
       "      <td>0.081629</td>\n",
       "      <td>0.018443</td>\n",
       "      <td>-0.245489</td>\n",
       "      <td>-0.171095</td>\n",
       "      <td>0.414838</td>\n",
       "      <td>1.000000</td>\n",
       "      <td>0.216225</td>\n",
       "      <td>0.039798</td>\n",
       "    </tr>\n",
       "    <tr>\n",
       "      <th>Fare</th>\n",
       "      <td>0.257307</td>\n",
       "      <td>-0.549500</td>\n",
       "      <td>-0.182333</td>\n",
       "      <td>0.123784</td>\n",
       "      <td>0.159651</td>\n",
       "      <td>0.216225</td>\n",
       "      <td>1.000000</td>\n",
       "      <td>-0.224719</td>\n",
       "    </tr>\n",
       "    <tr>\n",
       "      <th>Embarked</th>\n",
       "      <td>-0.167675</td>\n",
       "      <td>0.162098</td>\n",
       "      <td>0.108262</td>\n",
       "      <td>-0.011245</td>\n",
       "      <td>0.068230</td>\n",
       "      <td>0.039798</td>\n",
       "      <td>-0.224719</td>\n",
       "      <td>1.000000</td>\n",
       "    </tr>\n",
       "  </tbody>\n",
       "</table>\n",
       "</div>"
      ],
      "text/plain": [
       "          Survived    Pclass       Sex       Age     SibSp     Parch  \\\n",
       "Survived  1.000000 -0.338481 -0.543351 -0.047255 -0.035322  0.081629   \n",
       "Pclass   -0.338481  1.000000  0.131900 -0.408487  0.083081  0.018443   \n",
       "Sex      -0.543351  0.131900  1.000000  0.078421 -0.114631 -0.245489   \n",
       "Age      -0.047255 -0.408487  0.078421  1.000000 -0.243526 -0.171095   \n",
       "SibSp    -0.035322  0.083081 -0.114631 -0.243526  1.000000  0.414838   \n",
       "Parch     0.081629  0.018443 -0.245489 -0.171095  0.414838  1.000000   \n",
       "Fare      0.257307 -0.549500 -0.182333  0.123784  0.159651  0.216225   \n",
       "Embarked -0.167675  0.162098  0.108262 -0.011245  0.068230  0.039798   \n",
       "\n",
       "              Fare  Embarked  \n",
       "Survived  0.257307 -0.167675  \n",
       "Pclass   -0.549500  0.162098  \n",
       "Sex      -0.182333  0.108262  \n",
       "Age       0.123784 -0.011245  \n",
       "SibSp     0.159651  0.068230  \n",
       "Parch     0.216225  0.039798  \n",
       "Fare      1.000000 -0.224719  \n",
       "Embarked -0.224719  1.000000  "
      ]
     },
     "execution_count": 296,
     "metadata": {},
     "output_type": "execute_result"
    }
   ],
   "source": [
    "# checking the correlation between features and label\n",
    "data.corr()"
   ]
  },
  {
   "cell_type": "markdown",
   "id": "f20c3a17",
   "metadata": {},
   "source": [
    "from above correlation table we can interpret that every feature vs feature and feature vs label has some relation they all are not that much highly related to each other but some relations are there for sure either it is positive relation or negative relation."
   ]
  },
  {
   "cell_type": "markdown",
   "id": "f1f0dc69",
   "metadata": {},
   "source": [
    "Great! Now it looks like that our data is ready to build the model. Now we will build saveral classification machine learning model and we will finalize the best model for our Titanic survival prediction."
   ]
  },
  {
   "cell_type": "markdown",
   "id": "ab6605d8",
   "metadata": {},
   "source": [
    "# Machine Learning Model Building"
   ]
  },
  {
   "cell_type": "markdown",
   "id": "cc2d04aa",
   "metadata": {},
   "source": [
    "First we will saperate the **Class** and **Features** from our dataset than we will standardise our feature data for using ```Standard Scaler``` after that we will divide our dataset into train data and test data."
   ]
  },
  {
   "cell_type": "markdown",
   "id": "dc65c396",
   "metadata": {},
   "source": [
    "## Preprocessing"
   ]
  },
  {
   "cell_type": "code",
   "execution_count": 297,
   "id": "399a9734",
   "metadata": {},
   "outputs": [],
   "source": [
    "# Let's separate the features and class\n",
    "x = data.drop(columns = 'Survived')\n",
    "y = data['Survived']"
   ]
  },
  {
   "cell_type": "code",
   "execution_count": 298,
   "id": "d6e5f6ab",
   "metadata": {},
   "outputs": [
    {
     "data": {
      "text/html": [
       "<div>\n",
       "<style scoped>\n",
       "    .dataframe tbody tr th:only-of-type {\n",
       "        vertical-align: middle;\n",
       "    }\n",
       "\n",
       "    .dataframe tbody tr th {\n",
       "        vertical-align: top;\n",
       "    }\n",
       "\n",
       "    .dataframe thead th {\n",
       "        text-align: right;\n",
       "    }\n",
       "</style>\n",
       "<table border=\"1\" class=\"dataframe\">\n",
       "  <thead>\n",
       "    <tr style=\"text-align: right;\">\n",
       "      <th></th>\n",
       "      <th>Pclass</th>\n",
       "      <th>Sex</th>\n",
       "      <th>Age</th>\n",
       "      <th>SibSp</th>\n",
       "      <th>Parch</th>\n",
       "      <th>Fare</th>\n",
       "      <th>Embarked</th>\n",
       "    </tr>\n",
       "  </thead>\n",
       "  <tbody>\n",
       "    <tr>\n",
       "      <th>0</th>\n",
       "      <td>3</td>\n",
       "      <td>1</td>\n",
       "      <td>22.0</td>\n",
       "      <td>1</td>\n",
       "      <td>0</td>\n",
       "      <td>7.2500</td>\n",
       "      <td>2</td>\n",
       "    </tr>\n",
       "    <tr>\n",
       "      <th>1</th>\n",
       "      <td>1</td>\n",
       "      <td>0</td>\n",
       "      <td>38.0</td>\n",
       "      <td>1</td>\n",
       "      <td>0</td>\n",
       "      <td>71.2833</td>\n",
       "      <td>0</td>\n",
       "    </tr>\n",
       "    <tr>\n",
       "      <th>2</th>\n",
       "      <td>3</td>\n",
       "      <td>0</td>\n",
       "      <td>26.0</td>\n",
       "      <td>0</td>\n",
       "      <td>0</td>\n",
       "      <td>7.9250</td>\n",
       "      <td>2</td>\n",
       "    </tr>\n",
       "    <tr>\n",
       "      <th>3</th>\n",
       "      <td>1</td>\n",
       "      <td>0</td>\n",
       "      <td>35.0</td>\n",
       "      <td>1</td>\n",
       "      <td>0</td>\n",
       "      <td>53.1000</td>\n",
       "      <td>2</td>\n",
       "    </tr>\n",
       "    <tr>\n",
       "      <th>4</th>\n",
       "      <td>3</td>\n",
       "      <td>1</td>\n",
       "      <td>35.0</td>\n",
       "      <td>0</td>\n",
       "      <td>0</td>\n",
       "      <td>8.0500</td>\n",
       "      <td>2</td>\n",
       "    </tr>\n",
       "    <tr>\n",
       "      <th>...</th>\n",
       "      <td>...</td>\n",
       "      <td>...</td>\n",
       "      <td>...</td>\n",
       "      <td>...</td>\n",
       "      <td>...</td>\n",
       "      <td>...</td>\n",
       "      <td>...</td>\n",
       "    </tr>\n",
       "    <tr>\n",
       "      <th>886</th>\n",
       "      <td>2</td>\n",
       "      <td>1</td>\n",
       "      <td>27.0</td>\n",
       "      <td>0</td>\n",
       "      <td>0</td>\n",
       "      <td>13.0000</td>\n",
       "      <td>2</td>\n",
       "    </tr>\n",
       "    <tr>\n",
       "      <th>887</th>\n",
       "      <td>1</td>\n",
       "      <td>0</td>\n",
       "      <td>19.0</td>\n",
       "      <td>0</td>\n",
       "      <td>0</td>\n",
       "      <td>30.0000</td>\n",
       "      <td>2</td>\n",
       "    </tr>\n",
       "    <tr>\n",
       "      <th>888</th>\n",
       "      <td>3</td>\n",
       "      <td>0</td>\n",
       "      <td>24.0</td>\n",
       "      <td>1</td>\n",
       "      <td>2</td>\n",
       "      <td>23.4500</td>\n",
       "      <td>2</td>\n",
       "    </tr>\n",
       "    <tr>\n",
       "      <th>889</th>\n",
       "      <td>1</td>\n",
       "      <td>1</td>\n",
       "      <td>26.0</td>\n",
       "      <td>0</td>\n",
       "      <td>0</td>\n",
       "      <td>30.0000</td>\n",
       "      <td>0</td>\n",
       "    </tr>\n",
       "    <tr>\n",
       "      <th>890</th>\n",
       "      <td>3</td>\n",
       "      <td>1</td>\n",
       "      <td>32.0</td>\n",
       "      <td>0</td>\n",
       "      <td>0</td>\n",
       "      <td>7.7500</td>\n",
       "      <td>1</td>\n",
       "    </tr>\n",
       "  </tbody>\n",
       "</table>\n",
       "<p>891 rows × 7 columns</p>\n",
       "</div>"
      ],
      "text/plain": [
       "     Pclass  Sex   Age  SibSp  Parch     Fare  Embarked\n",
       "0         3    1  22.0      1      0   7.2500         2\n",
       "1         1    0  38.0      1      0  71.2833         0\n",
       "2         3    0  26.0      0      0   7.9250         2\n",
       "3         1    0  35.0      1      0  53.1000         2\n",
       "4         3    1  35.0      0      0   8.0500         2\n",
       "..      ...  ...   ...    ...    ...      ...       ...\n",
       "886       2    1  27.0      0      0  13.0000         2\n",
       "887       1    0  19.0      0      0  30.0000         2\n",
       "888       3    0  24.0      1      2  23.4500         2\n",
       "889       1    1  26.0      0      0  30.0000         0\n",
       "890       3    1  32.0      0      0   7.7500         1\n",
       "\n",
       "[891 rows x 7 columns]"
      ]
     },
     "execution_count": 298,
     "metadata": {},
     "output_type": "execute_result"
    }
   ],
   "source": [
    "x"
   ]
  },
  {
   "cell_type": "code",
   "execution_count": 299,
   "id": "a930eafe",
   "metadata": {},
   "outputs": [
    {
     "data": {
      "text/plain": [
       "0      0\n",
       "1      1\n",
       "2      1\n",
       "3      1\n",
       "4      0\n",
       "      ..\n",
       "886    0\n",
       "887    1\n",
       "888    0\n",
       "889    1\n",
       "890    0\n",
       "Name: Survived, Length: 891, dtype: int64"
      ]
     },
     "execution_count": 299,
     "metadata": {},
     "output_type": "execute_result"
    }
   ],
   "source": [
    "y"
   ]
  },
  {
   "cell_type": "markdown",
   "id": "22e06912",
   "metadata": {},
   "source": [
    "### Standard Scaler "
   ]
  },
  {
   "cell_type": "code",
   "execution_count": 300,
   "id": "7eaf5421",
   "metadata": {},
   "outputs": [],
   "source": [
    "# applying standard scaler\n",
    "scaler = StandardScaler()"
   ]
  },
  {
   "cell_type": "code",
   "execution_count": 301,
   "id": "15d9f2af",
   "metadata": {},
   "outputs": [
    {
     "data": {
      "text/plain": [
       "array([[ 0.82737724,  0.73769513, -0.53383369, ..., -0.47367361,\n",
       "        -0.50244517,  0.58595414],\n",
       "       [-1.56610693, -1.35557354,  0.67489052, ..., -0.47367361,\n",
       "         0.78684529, -1.9423032 ],\n",
       "       [ 0.82737724, -1.35557354, -0.23165264, ..., -0.47367361,\n",
       "        -0.48885426,  0.58595414],\n",
       "       ...,\n",
       "       [ 0.82737724, -1.35557354, -0.38274316, ...,  2.00893337,\n",
       "        -0.17626324,  0.58595414],\n",
       "       [-1.56610693,  0.73769513, -0.23165264, ..., -0.47367361,\n",
       "        -0.04438104, -1.9423032 ],\n",
       "       [ 0.82737724,  0.73769513,  0.22161894, ..., -0.47367361,\n",
       "        -0.49237783, -0.67817453]])"
      ]
     },
     "execution_count": 301,
     "metadata": {},
     "output_type": "execute_result"
    }
   ],
   "source": [
    "x_scaled = scaler.fit_transform(x)\n",
    "x_scaled"
   ]
  },
  {
   "cell_type": "markdown",
   "id": "6ad3caee",
   "metadata": {},
   "source": [
    "### Finding Best random state on Logistic Regression."
   ]
  },
  {
   "cell_type": "code",
   "execution_count": 309,
   "id": "4f661f90",
   "metadata": {},
   "outputs": [
    {
     "name": "stdout",
     "output_type": "stream",
     "text": [
      "Best accuracy is  0.8789237668161435 on random State 150\n"
     ]
    }
   ],
   "source": [
    "max_accu = 0\n",
    "best_rs = 0\n",
    "\n",
    "for i in range(1,500):\n",
    "    x_train, x_test, y_train, y_test = train_test_split(x_scaled,y,test_size=0.25,random_state=i)\n",
    "    log_reg = LogisticRegression()\n",
    "    log_reg.fit(x_train,y_train)\n",
    "    y_pred = log_reg.predict(x_test)\n",
    "    accuracy = accuracy_score(y_test,y_pred)\n",
    "    if accuracy > max_accu:\n",
    "        max_accu = accuracy\n",
    "        best_rs = i\n",
    "print('Best accuracy is ',max_accu, 'on random State',best_rs)"
   ]
  },
  {
   "cell_type": "markdown",
   "id": "d38d83b2",
   "metadata": {},
   "source": [
    "We got the best random state for logistic regression, now we will build the logistic regression model with the best random state what we got."
   ]
  },
  {
   "cell_type": "markdown",
   "id": "b6980851",
   "metadata": {},
   "source": [
    "### Creating train test split for our model training and testing"
   ]
  },
  {
   "cell_type": "code",
   "execution_count": 320,
   "id": "bd1c2b18",
   "metadata": {},
   "outputs": [],
   "source": [
    "x_train, x_test, y_train, y_test = train_test_split(x_scaled,y,test_size=0.25,random_state=150)"
   ]
  },
  {
   "cell_type": "markdown",
   "id": "60634869",
   "metadata": {},
   "source": [
    "# Logistic Regression Model Building"
   ]
  },
  {
   "cell_type": "code",
   "execution_count": 321,
   "id": "8dfc61b8",
   "metadata": {},
   "outputs": [
    {
     "data": {
      "text/plain": [
       "LogisticRegression()"
      ]
     },
     "execution_count": 321,
     "metadata": {},
     "output_type": "execute_result"
    }
   ],
   "source": [
    "# model training\n",
    "log_reg = LogisticRegression()\n",
    "log_reg.fit(x_train,y_train)"
   ]
  },
  {
   "cell_type": "code",
   "execution_count": 322,
   "id": "874dbb5b",
   "metadata": {},
   "outputs": [],
   "source": [
    "# model prediction on test data\n",
    "y_pred = log_reg.predict(x_test)"
   ]
  },
  {
   "cell_type": "code",
   "execution_count": 323,
   "id": "0718a6b4",
   "metadata": {},
   "outputs": [
    {
     "data": {
      "text/plain": [
       "array([[123,  11],\n",
       "       [ 16,  73]], dtype=int64)"
      ]
     },
     "execution_count": 323,
     "metadata": {},
     "output_type": "execute_result"
    }
   ],
   "source": [
    "# confusion matrix\n",
    "confusion_matrix(y_test,y_pred)"
   ]
  },
  {
   "cell_type": "code",
   "execution_count": 324,
   "id": "dc6ed18d",
   "metadata": {},
   "outputs": [
    {
     "data": {
      "text/plain": [
       "0.8789237668161435"
      ]
     },
     "execution_count": 324,
     "metadata": {},
     "output_type": "execute_result"
    }
   ],
   "source": [
    "# accuracy score\n",
    "accuracy_score(y_test,y_pred)"
   ]
  },
  {
   "cell_type": "code",
   "execution_count": 333,
   "id": "7fccdf5d",
   "metadata": {},
   "outputs": [
    {
     "name": "stdout",
     "output_type": "stream",
     "text": [
      "              precision    recall  f1-score   support\n",
      "\n",
      "           0       0.88      0.92      0.90       134\n",
      "           1       0.87      0.82      0.84        89\n",
      "\n",
      "    accuracy                           0.88       223\n",
      "   macro avg       0.88      0.87      0.87       223\n",
      "weighted avg       0.88      0.88      0.88       223\n",
      "\n"
     ]
    }
   ],
   "source": [
    "# classification Report\n",
    "\n",
    "print(classification_report(y_test,y_pred))"
   ]
  },
  {
   "cell_type": "markdown",
   "id": "08d828b2",
   "metadata": {},
   "source": [
    "# k-Nearest Neighbors Classification model"
   ]
  },
  {
   "cell_type": "code",
   "execution_count": 334,
   "id": "1e478d5e",
   "metadata": {},
   "outputs": [],
   "source": [
    "from sklearn.neighbors import KNeighborsClassifier  # importing k-Nearest Neighbors"
   ]
  },
  {
   "cell_type": "code",
   "execution_count": 335,
   "id": "911f090c",
   "metadata": {},
   "outputs": [
    {
     "data": {
      "text/plain": [
       "KNeighborsClassifier()"
      ]
     },
     "execution_count": 335,
     "metadata": {},
     "output_type": "execute_result"
    }
   ],
   "source": [
    "# Model Training with Knn\n",
    "knn = KNeighborsClassifier()\n",
    "knn.fit(x_train,y_train)"
   ]
  },
  {
   "cell_type": "code",
   "execution_count": 336,
   "id": "b36f2b29",
   "metadata": {},
   "outputs": [],
   "source": [
    "# prediction on test data\n",
    "y_pred_knn = knn.predict(x_test)"
   ]
  },
  {
   "cell_type": "code",
   "execution_count": 337,
   "id": "e169eda3",
   "metadata": {},
   "outputs": [
    {
     "data": {
      "text/plain": [
       "array([[126,   8],\n",
       "       [ 24,  65]], dtype=int64)"
      ]
     },
     "execution_count": 337,
     "metadata": {},
     "output_type": "execute_result"
    }
   ],
   "source": [
    "# confusion matrix\n",
    "confusion_matrix(y_test,y_pred_knn)"
   ]
  },
  {
   "cell_type": "code",
   "execution_count": 338,
   "id": "2d831150",
   "metadata": {},
   "outputs": [
    {
     "data": {
      "text/plain": [
       "0.8565022421524664"
      ]
     },
     "execution_count": 338,
     "metadata": {},
     "output_type": "execute_result"
    }
   ],
   "source": [
    "# accuracy_score\n",
    "accuracy_score(y_test,y_pred_knn)"
   ]
  },
  {
   "cell_type": "code",
   "execution_count": 339,
   "id": "3fffdfb9",
   "metadata": {},
   "outputs": [
    {
     "name": "stdout",
     "output_type": "stream",
     "text": [
      "              precision    recall  f1-score   support\n",
      "\n",
      "           0       0.84      0.94      0.89       134\n",
      "           1       0.89      0.73      0.80        89\n",
      "\n",
      "    accuracy                           0.86       223\n",
      "   macro avg       0.87      0.84      0.84       223\n",
      "weighted avg       0.86      0.86      0.85       223\n",
      "\n"
     ]
    }
   ],
   "source": [
    "# classification Report\n",
    "print(classification_report(y_test,y_pred_knn))"
   ]
  },
  {
   "cell_type": "markdown",
   "id": "5cff77e8",
   "metadata": {},
   "source": [
    "# Decision Tree Classification Model"
   ]
  },
  {
   "cell_type": "code",
   "execution_count": 340,
   "id": "d10a4145",
   "metadata": {},
   "outputs": [],
   "source": [
    "from sklearn.tree import DecisionTreeClassifier  # importing Decision Tree"
   ]
  },
  {
   "cell_type": "code",
   "execution_count": 341,
   "id": "c9321cda",
   "metadata": {},
   "outputs": [
    {
     "data": {
      "text/plain": [
       "DecisionTreeClassifier()"
      ]
     },
     "execution_count": 341,
     "metadata": {},
     "output_type": "execute_result"
    }
   ],
   "source": [
    "# model training with Decision Tree Classifier\n",
    "D_tree = DecisionTreeClassifier()\n",
    "D_tree.fit(x_train,y_train)"
   ]
  },
  {
   "cell_type": "code",
   "execution_count": 342,
   "id": "da12a4f3",
   "metadata": {},
   "outputs": [],
   "source": [
    "# decision tree prediction on test data\n",
    "y_pred_dt = D_tree.predict(x_test)"
   ]
  },
  {
   "cell_type": "code",
   "execution_count": 343,
   "id": "d00f81c5",
   "metadata": {},
   "outputs": [
    {
     "data": {
      "text/plain": [
       "array([[114,  20],\n",
       "       [ 17,  72]], dtype=int64)"
      ]
     },
     "execution_count": 343,
     "metadata": {},
     "output_type": "execute_result"
    }
   ],
   "source": [
    "# confusion matrix of decision tree\n",
    "confusion_matrix(y_test,y_pred_dt)"
   ]
  },
  {
   "cell_type": "code",
   "execution_count": 344,
   "id": "8ce97df4",
   "metadata": {},
   "outputs": [
    {
     "data": {
      "text/plain": [
       "0.8340807174887892"
      ]
     },
     "execution_count": 344,
     "metadata": {},
     "output_type": "execute_result"
    }
   ],
   "source": [
    "# accuracy score of decision tree\n",
    "accuracy_score(y_test,y_pred_dt)"
   ]
  },
  {
   "cell_type": "code",
   "execution_count": 346,
   "id": "c1b6dc6a",
   "metadata": {},
   "outputs": [
    {
     "name": "stdout",
     "output_type": "stream",
     "text": [
      "              precision    recall  f1-score   support\n",
      "\n",
      "           0       0.87      0.85      0.86       134\n",
      "           1       0.78      0.81      0.80        89\n",
      "\n",
      "    accuracy                           0.83       223\n",
      "   macro avg       0.83      0.83      0.83       223\n",
      "weighted avg       0.84      0.83      0.83       223\n",
      "\n"
     ]
    }
   ],
   "source": [
    "# classification report of decision tree\n",
    "print(classification_report(y_test,y_pred_dt))"
   ]
  },
  {
   "cell_type": "markdown",
   "id": "5c285931",
   "metadata": {},
   "source": [
    "# Random Forest Classification Model"
   ]
  },
  {
   "cell_type": "code",
   "execution_count": 347,
   "id": "cfd78e7c",
   "metadata": {},
   "outputs": [],
   "source": [
    "from sklearn.ensemble import RandomForestClassifier   # importing Random Forest"
   ]
  },
  {
   "cell_type": "code",
   "execution_count": 348,
   "id": "a3484071",
   "metadata": {},
   "outputs": [
    {
     "data": {
      "text/plain": [
       "RandomForestClassifier()"
      ]
     },
     "execution_count": 348,
     "metadata": {},
     "output_type": "execute_result"
    }
   ],
   "source": [
    "# model training on random forest classifier\n",
    "random_forest = RandomForestClassifier()\n",
    "random_forest.fit(x_train,y_train)"
   ]
  },
  {
   "cell_type": "code",
   "execution_count": 349,
   "id": "fb91d565",
   "metadata": {},
   "outputs": [],
   "source": [
    "# random forest model prediction on test data\n",
    "y_pred_rf = random_forest.predict(x_test)"
   ]
  },
  {
   "cell_type": "code",
   "execution_count": 350,
   "id": "b7a68dd8",
   "metadata": {},
   "outputs": [
    {
     "data": {
      "text/plain": [
       "0.8565022421524664"
      ]
     },
     "execution_count": 350,
     "metadata": {},
     "output_type": "execute_result"
    }
   ],
   "source": [
    "# model accuracy\n",
    "accuracy_score(y_test,y_pred_rf)"
   ]
  },
  {
   "cell_type": "code",
   "execution_count": 351,
   "id": "f9a76dc4",
   "metadata": {},
   "outputs": [
    {
     "data": {
      "text/plain": [
       "array([[121,  13],\n",
       "       [ 19,  70]], dtype=int64)"
      ]
     },
     "execution_count": 351,
     "metadata": {},
     "output_type": "execute_result"
    }
   ],
   "source": [
    "# confusion matrix\n",
    "confusion_matrix(y_test,y_pred_rf)"
   ]
  },
  {
   "cell_type": "code",
   "execution_count": 353,
   "id": "a68c58ae",
   "metadata": {},
   "outputs": [
    {
     "name": "stdout",
     "output_type": "stream",
     "text": [
      "              precision    recall  f1-score   support\n",
      "\n",
      "           0       0.86      0.90      0.88       134\n",
      "           1       0.84      0.79      0.81        89\n",
      "\n",
      "    accuracy                           0.86       223\n",
      "   macro avg       0.85      0.84      0.85       223\n",
      "weighted avg       0.86      0.86      0.86       223\n",
      "\n"
     ]
    }
   ],
   "source": [
    "# classification report\n",
    "print(classification_report(y_test,y_pred_rf))"
   ]
  },
  {
   "cell_type": "markdown",
   "id": "4437946b",
   "metadata": {},
   "source": [
    "# Support Vector Classification model"
   ]
  },
  {
   "cell_type": "code",
   "execution_count": 354,
   "id": "bd65ffa8",
   "metadata": {},
   "outputs": [],
   "source": [
    "from sklearn.svm import SVC   # importing Support vector classifier"
   ]
  },
  {
   "cell_type": "code",
   "execution_count": 355,
   "id": "b34f5fd6",
   "metadata": {},
   "outputs": [
    {
     "data": {
      "text/plain": [
       "SVC()"
      ]
     },
     "execution_count": 355,
     "metadata": {},
     "output_type": "execute_result"
    }
   ],
   "source": [
    "# model training on support vector classifier\n",
    "svc = SVC()\n",
    "svc.fit(x_train,y_train)"
   ]
  },
  {
   "cell_type": "code",
   "execution_count": 356,
   "id": "ee55c337",
   "metadata": {},
   "outputs": [],
   "source": [
    "# support vector classification model prediction on test data\n",
    "y_pred_svc = svc.predict(x_test)"
   ]
  },
  {
   "cell_type": "code",
   "execution_count": 357,
   "id": "98bbfe6e",
   "metadata": {},
   "outputs": [
    {
     "data": {
      "text/plain": [
       "0.8878923766816144"
      ]
     },
     "execution_count": 357,
     "metadata": {},
     "output_type": "execute_result"
    }
   ],
   "source": [
    "# support vector model accuracy score\n",
    "accuracy_score(y_test,y_pred_svc)"
   ]
  },
  {
   "cell_type": "code",
   "execution_count": 358,
   "id": "3c09e024",
   "metadata": {},
   "outputs": [
    {
     "data": {
      "text/plain": [
       "array([[129,   5],\n",
       "       [ 20,  69]], dtype=int64)"
      ]
     },
     "execution_count": 358,
     "metadata": {},
     "output_type": "execute_result"
    }
   ],
   "source": [
    "# support vector model confusion matrix\n",
    "confusion_matrix(y_test,y_pred_svc)"
   ]
  },
  {
   "cell_type": "code",
   "execution_count": 360,
   "id": "f4bb1d97",
   "metadata": {},
   "outputs": [
    {
     "name": "stdout",
     "output_type": "stream",
     "text": [
      "              precision    recall  f1-score   support\n",
      "\n",
      "           0       0.87      0.96      0.91       134\n",
      "           1       0.93      0.78      0.85        89\n",
      "\n",
      "    accuracy                           0.89       223\n",
      "   macro avg       0.90      0.87      0.88       223\n",
      "weighted avg       0.89      0.89      0.89       223\n",
      "\n"
     ]
    }
   ],
   "source": [
    "# support vector model classification report\n",
    "print(classification_report(y_test,y_pred_svc))"
   ]
  },
  {
   "cell_type": "markdown",
   "id": "785144f8",
   "metadata": {},
   "source": [
    "We have built 5 Classification Machine Learning Algorithm and there score is as follows:-\n",
    "\n",
    " * **LogisticRegression Model**  Accuracy Score = ```0.8789237668161435```\n",
    " * **k-NearestNeighbors Model**  Accuracy Score = ```0.8565022421524664```\n",
    " * **DecisionTree Model**  Accuracy Score = ```0.8340807174887892```\n",
    " * **RandomForest Model**  Accuracy Score = ```0.8565022421524664```\n",
    " * **SupportVector Model**  Accuracy Score = ```0.8878923766816144```\n",
    " \n",
    "All the 5 models have given the accuracy score very close to each other which is in range of 80 to 90 percent, out of which the support vector classifier has given the highest accuracy that is 88.78% and decision tree has given the lowest score that is 83.40%. \n",
    "\n",
    "Now we have to choose the best model out of it but before that we will cross validate our models and than we will analyze the score after cross validation and based on cross validation we will decide our best model."
   ]
  },
  {
   "cell_type": "markdown",
   "id": "02d62114",
   "metadata": {},
   "source": [
    "# Cross validation of models"
   ]
  },
  {
   "cell_type": "code",
   "execution_count": 362,
   "id": "a9ce2599",
   "metadata": {},
   "outputs": [],
   "source": [
    "from sklearn.model_selection import cross_val_score   # importing the cross validation score"
   ]
  },
  {
   "cell_type": "code",
   "execution_count": 368,
   "id": "32d923f9",
   "metadata": {},
   "outputs": [
    {
     "name": "stdout",
     "output_type": "stream",
     "text": [
      "Cross Validation Score for LogisticRegression is :  0.8013732833957553\n"
     ]
    }
   ],
   "source": [
    "# cross validation for logistic regression\n",
    "cvs = cross_val_score(log_reg, x_scaled, y, cv=10)\n",
    "print('Cross Validation Score for LogisticRegression is : ',cvs.mean())"
   ]
  },
  {
   "cell_type": "code",
   "execution_count": 374,
   "id": "326ed437",
   "metadata": {},
   "outputs": [
    {
     "name": "stdout",
     "output_type": "stream",
     "text": [
      "Cross Validation Score for LogisticRegression is :  0.7991510611735331\n"
     ]
    }
   ],
   "source": [
    "# cross validation for k-nearest Neighbors\n",
    "cvs = cross_val_score(knn, x_scaled, y, cv=10)\n",
    "print('Cross Validation Score for LogisticRegression is : ',cvs.mean())"
   ]
  },
  {
   "cell_type": "code",
   "execution_count": 381,
   "id": "83471308",
   "metadata": {},
   "outputs": [
    {
     "name": "stdout",
     "output_type": "stream",
     "text": [
      "Cross Validation Score for LogisticRegression is :  0.7699750312109863\n"
     ]
    }
   ],
   "source": [
    "# cross validation for decision tree\n",
    "cvs = cross_val_score(D_tree, x_scaled, y, cv=10)\n",
    "print('Cross Validation Score for LogisticRegression is : ',cvs.mean())"
   ]
  },
  {
   "cell_type": "code",
   "execution_count": 385,
   "id": "afa8cb48",
   "metadata": {},
   "outputs": [
    {
     "name": "stdout",
     "output_type": "stream",
     "text": [
      "Cross Validation Score for LogisticRegression is :  0.8149063670411983\n"
     ]
    }
   ],
   "source": [
    "# cross validation for random forest\n",
    "cvs = cross_val_score(random_forest, x_scaled, y, cv=10)\n",
    "print('Cross Validation Score for LogisticRegression is : ',cvs.mean())"
   ]
  },
  {
   "cell_type": "code",
   "execution_count": 390,
   "id": "76c45ab3",
   "metadata": {},
   "outputs": [
    {
     "name": "stdout",
     "output_type": "stream",
     "text": [
      "Cross Validation Score for LogisticRegression is :  0.8249438202247191\n"
     ]
    }
   ],
   "source": [
    "# cross validation for support vector classifier\n",
    "cvs = cross_val_score(svc, x_scaled, y, cv=10)\n",
    "print('Cross Validation Score for LogisticRegression is : ',cvs.mean())"
   ]
  },
  {
   "attachments": {
    "image.png": {
     "image/png": "[encoded data removed]"
    }
   },
   "cell_type": "markdown",
   "id": "5a5fb06f",
   "metadata": {},
   "source": [
    "We have successfully done with cross validation of all 5 models with **CV = 10** and got the result as follows:-\n",
    "\n",
    " * **LogisticRegression Model**  Cross Validation Score = ```0.8013732833957553```\n",
    " * **k-NearestNeighbors Model**  Cross Validation Score = ```0.7991510611735331```\n",
    " * **DecisionTree Model**  Cross Validation Score = ```0.7699750312109863```\n",
    " * **RandomForest Model**  Cross Validation Score = ```0.8149063670411983```\n",
    " * **SupportVector Model**  Cross Validation Score = ```0.8249438202247191```\n",
    " \n",
    "Now one thing is sure that Support Vector Classifier Machine learning algorithm has given the best score in both ```accuracy_score``` and ```cross_val_score```. But as we know we have to check for the minimum difference between ```accuracy_score``` and ```cross_val_score```, and whichever model has the minimum difference between ```accuracy_score``` and ```cross_val_score``` would be the best model. So to check that I have counted the difference of both on a excel sheet. The result is as follows:\n",
    "\n",
    "\n",
    "![image.png](attachment:image.png)\n",
    "\n",
    "from this table we can see that Random Forest model has the minimum difference between ```accuracy_score``` and ```cross_val_score``` that is 4.16. So according to this theory our best fit model is Random forest.\n",
    "\n",
    "We are going to plot the ```roc_auc_curve``` for our models then we will find out which model has largest ```roc_auc_score``` and if it matches with random forest we will finalize Random forest as our final model and if it would be support vector than we will finalise support vector as our final model."
   ]
  },
  {
   "cell_type": "markdown",
   "id": "1aa2e290",
   "metadata": {},
   "source": [
    "# Ploting auc_roc_curve to find out the best model."
   ]
  },
  {
   "cell_type": "markdown",
   "id": "a89a6360",
   "metadata": {},
   "source": [
    "### Let's find out the ```roc_auc_score``` of all models."
   ]
  },
  {
   "cell_type": "code",
   "execution_count": 391,
   "id": "ad874170",
   "metadata": {},
   "outputs": [
    {
     "data": {
      "text/plain": [
       "0.8690675834311589"
      ]
     },
     "execution_count": 391,
     "metadata": {},
     "output_type": "execute_result"
    }
   ],
   "source": [
    "# logistic regression\n",
    "roc_auc_score(y_test,y_pred)"
   ]
  },
  {
   "cell_type": "code",
   "execution_count": 392,
   "id": "4a16cd94",
   "metadata": {},
   "outputs": [
    {
     "data": {
      "text/plain": [
       "0.835317793057186"
      ]
     },
     "execution_count": 392,
     "metadata": {},
     "output_type": "execute_result"
    }
   ],
   "source": [
    "# knn model\n",
    "roc_auc_score(y_test,y_pred_knn)"
   ]
  },
  {
   "cell_type": "code",
   "execution_count": 393,
   "id": "bb0a2cd6",
   "metadata": {},
   "outputs": [
    {
     "data": {
      "text/plain": [
       "0.8298675163508301"
      ]
     },
     "execution_count": 393,
     "metadata": {},
     "output_type": "execute_result"
    }
   ],
   "source": [
    "# decision tree model\n",
    "roc_auc_score(y_test,y_pred_dt)"
   ]
  },
  {
   "cell_type": "code",
   "execution_count": 394,
   "id": "a7701d53",
   "metadata": {},
   "outputs": [
    {
     "data": {
      "text/plain": [
       "0.8447509642797251"
      ]
     },
     "execution_count": 394,
     "metadata": {},
     "output_type": "execute_result"
    }
   ],
   "source": [
    "# random forest model\n",
    "roc_auc_score(y_test,y_pred_rf)"
   ]
  },
  {
   "cell_type": "code",
   "execution_count": 395,
   "id": "8c692757",
   "metadata": {},
   "outputs": [
    {
     "data": {
      "text/plain": [
       "0.8689837330202917"
      ]
     },
     "execution_count": 395,
     "metadata": {},
     "output_type": "execute_result"
    }
   ],
   "source": [
    "# support vector model\n",
    "roc_auc_score(y_test,y_pred_svc)"
   ]
  },
  {
   "cell_type": "markdown",
   "id": "6fd1fa11",
   "metadata": {},
   "source": [
    "# ROC AUC Curve for the mitted model"
   ]
  },
  {
   "cell_type": "code",
   "execution_count": 402,
   "id": "8ac84afc",
   "metadata": {},
   "outputs": [],
   "source": [
    "from sklearn.metrics import plot_roc_curve  # importing plot_roc_curve metrics"
   ]
  },
  {
   "cell_type": "code",
   "execution_count": 413,
   "id": "4fe4cac3",
   "metadata": {},
   "outputs": [
    {
     "data": {
      "image/png": "[encoded data removed]",
      "text/plain": [
       "<Figure size 432x288 with 1 Axes>"
      ]
     },
     "metadata": {
      "needs_background": "light"
     },
     "output_type": "display_data"
    }
   ],
   "source": [
    "disp = plot_roc_curve(D_tree,x_test,y_test)\n",
    "plot_roc_curve(log_reg,x_test,y_test,ax=disp.ax_)  # ax_ = Axes with confusion matrix\n",
    "plot_roc_curve(knn,x_test,y_test,ax=disp.ax_)\n",
    "plot_roc_curve(random_forest,x_test,y_test,ax=disp.ax_)\n",
    "plot_roc_curve(svc,x_test,y_test,ax=disp.ax_)\n",
    "plt.legend(prop={'size':12},loc = 'lower right')\n",
    "plt.show()"
   ]
  },
  {
   "cell_type": "markdown",
   "id": "96a66467",
   "metadata": {},
   "source": [
    "Great! we have successfully ploted the ```roc_auc_curve``` and got the AUC score for all the models. We can see that that we have 2 winners with same score that is ```LogisticRegression``` and ```RandomForestClassifier``` score for both the model is 93%. Before ploting the ```roc_auc_curve``` we already had a analysis of best model based on cross validation score difference with accuracy score and we got that ```RandomForestClassifier``` had the minimum difference and here also we got ```RandomForestClassifier``` having the highest AUC score. So we are going to finalize ```RandomForestClassifier``` as our model for prediction the survival of Passenger on Titanic Disaster.\n",
    "\n",
    "Now we will do some Hyperparameter tuning with ```RandomForestClassifier``` model to see if we can get the more accuracy with this model if possible. "
   ]
  },
  {
   "cell_type": "markdown",
   "id": "0e636c45",
   "metadata": {},
   "source": [
    "# Hyper parameter Tuning"
   ]
  },
  {
   "cell_type": "code",
   "execution_count": 414,
   "id": "9a46678e",
   "metadata": {},
   "outputs": [],
   "source": [
    "from sklearn.model_selection import GridSearchCV    # IMPORTING THE GRIDSEARCHCV"
   ]
  },
  {
   "cell_type": "code",
   "execution_count": 426,
   "id": "dd317a41",
   "metadata": {},
   "outputs": [],
   "source": [
    "# Setting parameters\n",
    "parameters = {'n_estimators':[11,13,15,17,19,21,23,25,27,29],\n",
    "             'criterion':['gini','entropy'],\n",
    "             'max_depth':[5,10,15,20,25,30],\n",
    "             'min_samples_split':[10,11,12,13,14,15,16,17,18,19,20],\n",
    "             'min_samples_leaf':[5,6,7,8,9,10]\n",
    "             }"
   ]
  },
  {
   "cell_type": "code",
   "execution_count": 427,
   "id": "edabce43",
   "metadata": {},
   "outputs": [],
   "source": [
    "grid_search = GridSearchCV(random_forest,param_grid=parameters)"
   ]
  },
  {
   "cell_type": "code",
   "execution_count": 428,
   "id": "a6ced0c4",
   "metadata": {},
   "outputs": [
    {
     "data": {
      "text/plain": [
       "GridSearchCV(estimator=RandomForestClassifier(),\n",
       "             param_grid={'criterion': ['gini', 'entropy'],\n",
       "                         'max_depth': [5, 10, 15, 20, 25, 30],\n",
       "                         'min_samples_leaf': [5, 6, 7, 8, 9, 10],\n",
       "                         'min_samples_split': [10, 11, 12, 13, 14, 15, 16, 17,\n",
       "                                               18, 19, 20],\n",
       "                         'n_estimators': [11, 13, 15, 17, 19, 21, 23, 25, 27,\n",
       "                                          29]})"
      ]
     },
     "execution_count": 428,
     "metadata": {},
     "output_type": "execute_result"
    }
   ],
   "source": [
    "# training with given parameters to get the best parameters\n",
    "grid_search.fit(x_train,y_train)"
   ]
  },
  {
   "cell_type": "code",
   "execution_count": 429,
   "id": "0fa4ec98",
   "metadata": {},
   "outputs": [
    {
     "data": {
      "text/plain": [
       "{'criterion': 'entropy',\n",
       " 'max_depth': 20,\n",
       " 'min_samples_leaf': 6,\n",
       " 'min_samples_split': 16,\n",
       " 'n_estimators': 17}"
      ]
     },
     "execution_count": 429,
     "metadata": {},
     "output_type": "execute_result"
    }
   ],
   "source": [
    "# best parameters\n",
    "grid_search.best_params_"
   ]
  },
  {
   "cell_type": "code",
   "execution_count": 430,
   "id": "9aa8a26c",
   "metadata": {},
   "outputs": [],
   "source": [
    "random_forest = grid_search.best_estimator_"
   ]
  },
  {
   "cell_type": "code",
   "execution_count": 431,
   "id": "8e2e9b20",
   "metadata": {},
   "outputs": [
    {
     "data": {
      "text/plain": [
       "RandomForestClassifier(criterion='entropy', max_depth=20, min_samples_leaf=6,\n",
       "                       min_samples_split=16, n_estimators=17)"
      ]
     },
     "execution_count": 431,
     "metadata": {},
     "output_type": "execute_result"
    }
   ],
   "source": [
    "# training the model with best parameters what we got through gridsearchcv\n",
    "random_forest.fit(x_train,y_train)"
   ]
  },
  {
   "cell_type": "code",
   "execution_count": 432,
   "id": "d5bbc891",
   "metadata": {},
   "outputs": [],
   "source": [
    "# prediction of test data\n",
    "y_pred_rf = random_forest.predict(x_test)"
   ]
  },
  {
   "cell_type": "code",
   "execution_count": 433,
   "id": "28f3c93f",
   "metadata": {},
   "outputs": [
    {
     "data": {
      "text/plain": [
       "0.8834080717488789"
      ]
     },
     "execution_count": 433,
     "metadata": {},
     "output_type": "execute_result"
    }
   ],
   "source": [
    "# accuracy score\n",
    "accuracy_score(y_test,y_pred_rf)"
   ]
  },
  {
   "cell_type": "code",
   "execution_count": 434,
   "id": "7d6c8d93",
   "metadata": {},
   "outputs": [
    {
     "data": {
      "text/plain": [
       "array([[129,   5],\n",
       "       [ 21,  68]], dtype=int64)"
      ]
     },
     "execution_count": 434,
     "metadata": {},
     "output_type": "execute_result"
    }
   ],
   "source": [
    "# confusion matrix\n",
    "confusion_matrix(y_test,y_pred_rf)"
   ]
  },
  {
   "cell_type": "code",
   "execution_count": 435,
   "id": "763ed8ed",
   "metadata": {},
   "outputs": [
    {
     "name": "stdout",
     "output_type": "stream",
     "text": [
      "              precision    recall  f1-score   support\n",
      "\n",
      "           0       0.86      0.96      0.91       134\n",
      "           1       0.93      0.76      0.84        89\n",
      "\n",
      "    accuracy                           0.88       223\n",
      "   macro avg       0.90      0.86      0.87       223\n",
      "weighted avg       0.89      0.88      0.88       223\n",
      "\n"
     ]
    }
   ],
   "source": [
    "# classification report\n",
    "print(classification_report(y_test,y_pred_rf))"
   ]
  },
  {
   "cell_type": "markdown",
   "id": "3cde8558",
   "metadata": {},
   "source": [
    "Wow! It took almost 30 minute while tuning!!!\n",
    "\n",
    "we have done with the Hyper Parameter Tuning with some good productivity as we increased our accuracy score by almost 3% which is great Earlier the accuracy was 85.65%, now with hyperparameter tuning it increased upto 88.34%.\n",
    "\n",
    "So we have done with our model building and we have ended up building random forest classifier model for our Titanic Disaster Passenger's Survival Prediction. Now we will save the model and after that our project is ready."
   ]
  },
  {
   "cell_type": "markdown",
   "id": "a4083454",
   "metadata": {},
   "source": [
    "# Model saving"
   ]
  },
  {
   "cell_type": "code",
   "execution_count": 436,
   "id": "5eecef71",
   "metadata": {},
   "outputs": [],
   "source": [
    "import pickle"
   ]
  },
  {
   "cell_type": "code",
   "execution_count": 437,
   "id": "ebd5ebb3",
   "metadata": {},
   "outputs": [],
   "source": [
    "file_name = 'Titanic_Model.pickle'\n",
    "pickle.dump(random_forest,open(file_name,'wb'))"
   ]
  },
  {
   "cell_type": "markdown",
   "id": "62e9d9c1",
   "metadata": {},
   "source": [
    "Model has been saved successfully. Let's check by predicting the loaded model"
   ]
  },
  {
   "cell_type": "markdown",
   "id": "3fc68ca2",
   "metadata": {},
   "source": [
    "# Loading the saved model"
   ]
  },
  {
   "cell_type": "code",
   "execution_count": 438,
   "id": "fc96d6bd",
   "metadata": {},
   "outputs": [],
   "source": [
    "loaded_model = pickle.load(open(file_name,'rb'))"
   ]
  },
  {
   "cell_type": "code",
   "execution_count": 439,
   "id": "4f36b198",
   "metadata": {},
   "outputs": [],
   "source": [
    "# Predicting with loaded model\n",
    "predictions = loaded_model.predict(x_test)"
   ]
  },
  {
   "cell_type": "code",
   "execution_count": 441,
   "id": "38f78942",
   "metadata": {},
   "outputs": [],
   "source": [
    "# making Data Frame\n",
    "predictions = pd.DataFrame(predictions)"
   ]
  },
  {
   "cell_type": "code",
   "execution_count": 442,
   "id": "2430f4c5",
   "metadata": {},
   "outputs": [
    {
     "data": {
      "text/html": [
       "<div>\n",
       "<style scoped>\n",
       "    .dataframe tbody tr th:only-of-type {\n",
       "        vertical-align: middle;\n",
       "    }\n",
       "\n",
       "    .dataframe tbody tr th {\n",
       "        vertical-align: top;\n",
       "    }\n",
       "\n",
       "    .dataframe thead th {\n",
       "        text-align: right;\n",
       "    }\n",
       "</style>\n",
       "<table border=\"1\" class=\"dataframe\">\n",
       "  <thead>\n",
       "    <tr style=\"text-align: right;\">\n",
       "      <th></th>\n",
       "      <th>0</th>\n",
       "    </tr>\n",
       "  </thead>\n",
       "  <tbody>\n",
       "    <tr>\n",
       "      <th>0</th>\n",
       "      <td>0</td>\n",
       "    </tr>\n",
       "    <tr>\n",
       "      <th>1</th>\n",
       "      <td>0</td>\n",
       "    </tr>\n",
       "    <tr>\n",
       "      <th>2</th>\n",
       "      <td>1</td>\n",
       "    </tr>\n",
       "    <tr>\n",
       "      <th>3</th>\n",
       "      <td>1</td>\n",
       "    </tr>\n",
       "    <tr>\n",
       "      <th>4</th>\n",
       "      <td>0</td>\n",
       "    </tr>\n",
       "    <tr>\n",
       "      <th>...</th>\n",
       "      <td>...</td>\n",
       "    </tr>\n",
       "    <tr>\n",
       "      <th>218</th>\n",
       "      <td>1</td>\n",
       "    </tr>\n",
       "    <tr>\n",
       "      <th>219</th>\n",
       "      <td>0</td>\n",
       "    </tr>\n",
       "    <tr>\n",
       "      <th>220</th>\n",
       "      <td>0</td>\n",
       "    </tr>\n",
       "    <tr>\n",
       "      <th>221</th>\n",
       "      <td>0</td>\n",
       "    </tr>\n",
       "    <tr>\n",
       "      <th>222</th>\n",
       "      <td>0</td>\n",
       "    </tr>\n",
       "  </tbody>\n",
       "</table>\n",
       "<p>223 rows × 1 columns</p>\n",
       "</div>"
      ],
      "text/plain": [
       "     0\n",
       "0    0\n",
       "1    0\n",
       "2    1\n",
       "3    1\n",
       "4    0\n",
       "..  ..\n",
       "218  1\n",
       "219  0\n",
       "220  0\n",
       "221  0\n",
       "222  0\n",
       "\n",
       "[223 rows x 1 columns]"
      ]
     },
     "execution_count": 442,
     "metadata": {},
     "output_type": "execute_result"
    }
   ],
   "source": [
    "predictions"
   ]
  },
  {
   "cell_type": "markdown",
   "id": "70743ca0",
   "metadata": {},
   "source": [
    "# FINISHED"
   ]
  },
  {
   "attachments": {
    "thank-you-hand-drawn-lettering-260nw-780491263.jpg": {
     "image/jpeg": "[encoded data removed]"
    }
   },
   "cell_type": "markdown",
   "id": "284f01de",
   "metadata": {},
   "source": [
    "![thank-you-hand-drawn-lettering-260nw-780491263.jpg](attachment:thank-you-hand-drawn-lettering-260nw-780491263.jpg)"
   ]
  }
 ],
 "metadata": {
  "kernelspec": {
   "display_name": "Python 3",
   "language": "python",
   "name": "python3"
  },
  "language_info": {
   "codemirror_mode": {
    "name": "ipython",
    "version": 3
   },
   "file_extension": ".py",
   "mimetype": "text/x-python",
   "name": "python",
   "nbconvert_exporter": "python",
   "pygments_lexer": "ipython3",
   "version": "3.8.8"
  }
 },
 "nbformat": 4,
 "nbformat_minor": 5
}
